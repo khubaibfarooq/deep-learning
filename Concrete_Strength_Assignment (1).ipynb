{
  "nbformat": 4,
  "nbformat_minor": 0,
  "metadata": {
    "kernelspec": {
      "display_name": "Python 3",
      "language": "python",
      "name": "python3"
    },
    "language_info": {
      "codemirror_mode": {
        "name": "ipython",
        "version": 3
      },
      "file_extension": ".py",
      "mimetype": "text/x-python",
      "name": "python",
      "nbconvert_exporter": "python",
      "pygments_lexer": "ipython3",
      "version": "3.7.6"
    },
    "colab": {
      "name": "Concrete_Strength_Assignment.ipynb",
      "provenance": []
    }
  },
  "cells": [
    {
      "cell_type": "markdown",
      "metadata": {
        "id": "1lppaQ6VMvie"
      },
      "source": [
        "# Assignment: Compresive Strength Concrete Problem\n",
        "\n",
        "\n",
        "### Abstract: \n",
        "\n",
        "Concrete is the most important material in civil engineering. The concrete compressive strength (concrete strength to bear the load) is a highly nonlinear function of age and ingredients.  <br><br>\n",
        "\n",
        "<table border=\"1\"  cellpadding=\"6\" bordercolor=\"red\">\n",
        "\t<tbody>\n",
        "        <tr>\n",
        "\t\t<td bgcolor=\"#DDEEFF\"><p class=\"normal\"><b>Data Set Characteristics:&nbsp;&nbsp;</b></p></td>\n",
        "\t\t<td><p class=\"normal\">Multivariate</p></td>\n",
        "\t\t<td bgcolor=\"#DDEEFF\"><p class=\"normal\"><b>Number of Instances:</b></p></td>\n",
        "\t\t<td><p class=\"normal\">1030</p></td>\n",
        "\t\t<td bgcolor=\"#DDEEFF\"><p class=\"normal\"><b>Area:</b></p></td>\n",
        "\t\t<td><p class=\"normal\">Physical</p></td>\n",
        "        </tr>\n",
        "     </tbody>\n",
        "    </table>\n",
        "<table border=\"1\" cellpadding=\"6\">\n",
        "    <tbody>\n",
        "        <tr>\n",
        "            <td bgcolor=\"#DDEEFF\"><p class=\"normal\"><b>Attribute Characteristics:</b></p></td>\n",
        "            <td><p class=\"normal\">Real</p></td>\n",
        "            <td bgcolor=\"#DDEEFF\"><p class=\"normal\"><b>Number of Attributes:</b></p></td>\n",
        "            <td><p class=\"normal\">9</p></td>\n",
        "            <td bgcolor=\"#DDEEFF\"><p class=\"normal\"><b>Date Donated</b></p></td>\n",
        "            <td><p class=\"normal\">2007-08-03</p></td>\n",
        "        </tr>\n",
        "     </tbody>\n",
        "    </table>\n",
        "<table border=\"1\" cellpadding=\"6\">\t\n",
        "    <tbody>\n",
        "    <tr>\n",
        "\t\t<td bgcolor=\"#DDEEFF\"><p class=\"normal\"><b>Associated Tasks:</b></p></td>\n",
        "\t\t<td><p class=\"normal\">Regression</p></td>\n",
        "\t\t<td bgcolor=\"#DDEEFF\"><p class=\"normal\"><b>Missing Values?</b></p></td>\n",
        "\t\t<td><p class=\"normal\">N/A</p></td>\n",
        "\t\t<td bgcolor=\"#DDEEFF\"><p class=\"normal\"><b>Number of Web Hits:</b></p></td>\n",
        "\t\t<td><p class=\"normal\">231464</p></td>\n",
        "\t</tr>\n",
        "    </tbody>\n",
        "    </table>"
      ]
    },
    {
      "cell_type": "markdown",
      "metadata": {
        "id": "ZfhAUr7KMvix"
      },
      "source": [
        "#  Description:\n",
        "| Features Name | Data Type | Measurement | Description |\n",
        "| -- | -- | -- | -- |\n",
        "Cement (component 1) | quantitative | kg in a m3 mixture | Input Variable\n",
        "Blast Furnace Slag (component 2) | quantitative | kg in a m3 mixture | Input Variable\n",
        "Fly Ash (component 3) | quantitative | kg in a m3 mixture | Input Variable\n",
        "Water (component 4) | quantitative | kg in a m3 mixture | Input Variable\n",
        "Superplasticizer (component 5) | quantitative | kg in a m3 mixture | Input Variable\n",
        "Coarse Aggregate (component 6) | quantitative | kg in a m3 mixture | Input Variable\n",
        "Fine Aggregate (component 7) | quantitative | kg in a m3 mixture | Input Variable\n",
        "Age | quantitative | Day (1~365) | Input Variable\n",
        "Concrete compressive strength | quantitative | MPa | Output Variable\n",
        "\n",
        "### WORKFLOW :\n",
        "- Load Data\n",
        "- Check Missing Values ( If Exist ; Fill each record with mean of its feature )\n",
        "- Standardized the Input Variables. **Hint**: Centeralized the data\n",
        "- Split into 50% Training(Samples,Labels) , 30% Test(Samples,Labels) and 20% Validation Data(Samples,Labels).\n",
        "- Model : input Layer (No. of features ), 3 hidden layers including 10,8,6 unit & Output Layer with activation function relu/tanh (check by experiment).\n",
        "- Compilation Step (Note : Its a Regression problem , select loss , metrics according to it)\n",
        "- Train the Model with Epochs (100) and validate it\n",
        "- If the model gets overfit tune your model by changing the units , No. of layers , activation function , epochs , add dropout layer or add Regularizer according to the need .\n",
        "- Evaluation Step\n",
        "- Prediction\n"
      ]
    },
    {
      "cell_type": "markdown",
      "metadata": {
        "id": "0S82DgD0Mvi1"
      },
      "source": [
        "# Load Data:\n",
        "[Click Here to Download DataSet](https://github.com/ramsha275/ML_Datasets/blob/main/compresive_strength_concrete.csv)"
      ]
    },
    {
      "cell_type": "code",
      "metadata": {
        "id": "tKgEz58ZMvi2"
      },
      "source": [
        "import pandas as pd\n",
        "import numpy as np\n",
        "import matplotlib.pyplot as plt\n",
        "%matplotlib inline\n",
        "import seaborn as sns\n",
        "\n",
        "from keras import models\n",
        "from keras import layers"
      ],
      "execution_count": null,
      "outputs": []
    },
    {
      "cell_type": "code",
      "metadata": {
        "colab": {
          "base_uri": "https://localhost:8080/"
        },
        "id": "ARnVQokmQ3dt",
        "outputId": "94c94ec0-4ad6-4606-e5a8-169464d6aa88"
      },
      "source": [
        "from google.colab import drive\n",
        "drive.mount('/content/drive')"
      ],
      "execution_count": null,
      "outputs": [
        {
          "output_type": "stream",
          "text": [
            "Mounted at /content/drive\n"
          ],
          "name": "stdout"
        }
      ]
    },
    {
      "cell_type": "code",
      "metadata": {
        "colab": {
          "base_uri": "https://localhost:8080/"
        },
        "id": "_D72IcSmSa_I",
        "outputId": "60c63f77-c49e-4914-8c6b-899184dc2df6"
      },
      "source": [
        ""
      ],
      "execution_count": null,
      "outputs": [
        {
          "output_type": "stream",
          "text": [
            "UsageError: Line magic function `%lst` not found.\n"
          ],
          "name": "stderr"
        }
      ]
    },
    {
      "cell_type": "code",
      "metadata": {
        "id": "soSicxALMvi3"
      },
      "source": [
        "concrete_data = pd.read_csv('/content/drive/MyDrive/Deep_learning_assignment/compresive_strength_concrete.csv')"
      ],
      "execution_count": null,
      "outputs": []
    },
    {
      "cell_type": "code",
      "metadata": {
        "colab": {
          "base_uri": "https://localhost:8080/",
          "height": 289
        },
        "id": "PpZGup64Mvi4",
        "outputId": "af52d4f8-87db-46c8-d6e7-e2e69b98b189"
      },
      "source": [
        "concrete_data.head()"
      ],
      "execution_count": null,
      "outputs": [
        {
          "output_type": "execute_result",
          "data": {
            "text/html": [
              "<div>\n",
              "<style scoped>\n",
              "    .dataframe tbody tr th:only-of-type {\n",
              "        vertical-align: middle;\n",
              "    }\n",
              "\n",
              "    .dataframe tbody tr th {\n",
              "        vertical-align: top;\n",
              "    }\n",
              "\n",
              "    .dataframe thead th {\n",
              "        text-align: right;\n",
              "    }\n",
              "</style>\n",
              "<table border=\"1\" class=\"dataframe\">\n",
              "  <thead>\n",
              "    <tr style=\"text-align: right;\">\n",
              "      <th></th>\n",
              "      <th>Cement (component 1)(kg in a m^3 mixture)</th>\n",
              "      <th>Blast Furnace Slag (component 2)(kg in a m^3 mixture)</th>\n",
              "      <th>Fly Ash (component 3)(kg in a m^3 mixture)</th>\n",
              "      <th>Water  (component 4)(kg in a m^3 mixture)</th>\n",
              "      <th>Superplasticizer (component 5)(kg in a m^3 mixture)</th>\n",
              "      <th>Coarse Aggregate  (component 6)(kg in a m^3 mixture)</th>\n",
              "      <th>Fine Aggregate (component 7)(kg in a m^3 mixture)</th>\n",
              "      <th>Age (day)</th>\n",
              "      <th>Concrete compressive strength(MPa, megapascals)</th>\n",
              "    </tr>\n",
              "  </thead>\n",
              "  <tbody>\n",
              "    <tr>\n",
              "      <th>0</th>\n",
              "      <td>540.0</td>\n",
              "      <td>0.0</td>\n",
              "      <td>0.0</td>\n",
              "      <td>162.0</td>\n",
              "      <td>2.5</td>\n",
              "      <td>1040.0</td>\n",
              "      <td>676.0</td>\n",
              "      <td>28</td>\n",
              "      <td>79.99</td>\n",
              "    </tr>\n",
              "    <tr>\n",
              "      <th>1</th>\n",
              "      <td>540.0</td>\n",
              "      <td>0.0</td>\n",
              "      <td>0.0</td>\n",
              "      <td>162.0</td>\n",
              "      <td>2.5</td>\n",
              "      <td>1055.0</td>\n",
              "      <td>676.0</td>\n",
              "      <td>28</td>\n",
              "      <td>61.89</td>\n",
              "    </tr>\n",
              "    <tr>\n",
              "      <th>2</th>\n",
              "      <td>332.5</td>\n",
              "      <td>142.5</td>\n",
              "      <td>0.0</td>\n",
              "      <td>228.0</td>\n",
              "      <td>0.0</td>\n",
              "      <td>932.0</td>\n",
              "      <td>594.0</td>\n",
              "      <td>270</td>\n",
              "      <td>40.27</td>\n",
              "    </tr>\n",
              "    <tr>\n",
              "      <th>3</th>\n",
              "      <td>332.5</td>\n",
              "      <td>142.5</td>\n",
              "      <td>0.0</td>\n",
              "      <td>228.0</td>\n",
              "      <td>0.0</td>\n",
              "      <td>932.0</td>\n",
              "      <td>594.0</td>\n",
              "      <td>365</td>\n",
              "      <td>41.05</td>\n",
              "    </tr>\n",
              "    <tr>\n",
              "      <th>4</th>\n",
              "      <td>198.6</td>\n",
              "      <td>132.4</td>\n",
              "      <td>0.0</td>\n",
              "      <td>192.0</td>\n",
              "      <td>0.0</td>\n",
              "      <td>978.4</td>\n",
              "      <td>825.5</td>\n",
              "      <td>360</td>\n",
              "      <td>44.30</td>\n",
              "    </tr>\n",
              "  </tbody>\n",
              "</table>\n",
              "</div>"
            ],
            "text/plain": [
              "   Cement (component 1)(kg in a m^3 mixture)  ...  Concrete compressive strength(MPa, megapascals) \n",
              "0                                      540.0  ...                                             79.99\n",
              "1                                      540.0  ...                                             61.89\n",
              "2                                      332.5  ...                                             40.27\n",
              "3                                      332.5  ...                                             41.05\n",
              "4                                      198.6  ...                                             44.30\n",
              "\n",
              "[5 rows x 9 columns]"
            ]
          },
          "metadata": {
            "tags": []
          },
          "execution_count": 18
        }
      ]
    },
    {
      "cell_type": "markdown",
      "metadata": {
        "id": "-QD2z-GpMvi5"
      },
      "source": [
        "<b> Streamlining column names "
      ]
    },
    {
      "cell_type": "code",
      "metadata": {
        "id": "XIirymReMvja"
      },
      "source": [
        "req_col_names = [\"Cement\", \"BlastFurnaceSlag\", \"FlyAsh\", \"Water\", \"Superplasticizer\",\n",
        "                 \"CoarseAggregate\", \"FineAggregate\", \"Age\", \"CC_Strength\"]\n",
        "curr_col_names = list(concrete_data.columns)\n",
        "curr_col_names\n",
        "mapper = {}\n",
        "for i,name in enumerate(curr_col_names):\n",
        "    mapper[name] = req_col_names[i]\n",
        "  \n",
        "    \n",
        "concrete_data = concrete_data.rename(columns = mapper)"
      ],
      "execution_count": null,
      "outputs": []
    },
    {
      "cell_type": "code",
      "metadata": {
        "colab": {
          "base_uri": "https://localhost:8080/",
          "height": 359
        },
        "id": "VwzNQkNXS34k",
        "outputId": "d88aa5d9-b8f7-42bf-c422-28e4ebe94b7d"
      },
      "source": [
        "concrete_data.head(10)"
      ],
      "execution_count": null,
      "outputs": [
        {
          "output_type": "execute_result",
          "data": {
            "text/html": [
              "<div>\n",
              "<style scoped>\n",
              "    .dataframe tbody tr th:only-of-type {\n",
              "        vertical-align: middle;\n",
              "    }\n",
              "\n",
              "    .dataframe tbody tr th {\n",
              "        vertical-align: top;\n",
              "    }\n",
              "\n",
              "    .dataframe thead th {\n",
              "        text-align: right;\n",
              "    }\n",
              "</style>\n",
              "<table border=\"1\" class=\"dataframe\">\n",
              "  <thead>\n",
              "    <tr style=\"text-align: right;\">\n",
              "      <th></th>\n",
              "      <th>Cement</th>\n",
              "      <th>BlastFurnaceSlag</th>\n",
              "      <th>FlyAsh</th>\n",
              "      <th>Water</th>\n",
              "      <th>Superplasticizer</th>\n",
              "      <th>CoarseAggregate</th>\n",
              "      <th>FineAggregate</th>\n",
              "      <th>Age</th>\n",
              "      <th>CC_Strength</th>\n",
              "    </tr>\n",
              "  </thead>\n",
              "  <tbody>\n",
              "    <tr>\n",
              "      <th>0</th>\n",
              "      <td>540.0</td>\n",
              "      <td>0.0</td>\n",
              "      <td>0.0</td>\n",
              "      <td>162.0</td>\n",
              "      <td>2.5</td>\n",
              "      <td>1040.0</td>\n",
              "      <td>676.0</td>\n",
              "      <td>28</td>\n",
              "      <td>79.99</td>\n",
              "    </tr>\n",
              "    <tr>\n",
              "      <th>1</th>\n",
              "      <td>540.0</td>\n",
              "      <td>0.0</td>\n",
              "      <td>0.0</td>\n",
              "      <td>162.0</td>\n",
              "      <td>2.5</td>\n",
              "      <td>1055.0</td>\n",
              "      <td>676.0</td>\n",
              "      <td>28</td>\n",
              "      <td>61.89</td>\n",
              "    </tr>\n",
              "    <tr>\n",
              "      <th>2</th>\n",
              "      <td>332.5</td>\n",
              "      <td>142.5</td>\n",
              "      <td>0.0</td>\n",
              "      <td>228.0</td>\n",
              "      <td>0.0</td>\n",
              "      <td>932.0</td>\n",
              "      <td>594.0</td>\n",
              "      <td>270</td>\n",
              "      <td>40.27</td>\n",
              "    </tr>\n",
              "    <tr>\n",
              "      <th>3</th>\n",
              "      <td>332.5</td>\n",
              "      <td>142.5</td>\n",
              "      <td>0.0</td>\n",
              "      <td>228.0</td>\n",
              "      <td>0.0</td>\n",
              "      <td>932.0</td>\n",
              "      <td>594.0</td>\n",
              "      <td>365</td>\n",
              "      <td>41.05</td>\n",
              "    </tr>\n",
              "    <tr>\n",
              "      <th>4</th>\n",
              "      <td>198.6</td>\n",
              "      <td>132.4</td>\n",
              "      <td>0.0</td>\n",
              "      <td>192.0</td>\n",
              "      <td>0.0</td>\n",
              "      <td>978.4</td>\n",
              "      <td>825.5</td>\n",
              "      <td>360</td>\n",
              "      <td>44.30</td>\n",
              "    </tr>\n",
              "    <tr>\n",
              "      <th>5</th>\n",
              "      <td>266.0</td>\n",
              "      <td>114.0</td>\n",
              "      <td>0.0</td>\n",
              "      <td>228.0</td>\n",
              "      <td>0.0</td>\n",
              "      <td>932.0</td>\n",
              "      <td>670.0</td>\n",
              "      <td>90</td>\n",
              "      <td>47.03</td>\n",
              "    </tr>\n",
              "    <tr>\n",
              "      <th>6</th>\n",
              "      <td>380.0</td>\n",
              "      <td>95.0</td>\n",
              "      <td>0.0</td>\n",
              "      <td>228.0</td>\n",
              "      <td>0.0</td>\n",
              "      <td>932.0</td>\n",
              "      <td>594.0</td>\n",
              "      <td>365</td>\n",
              "      <td>43.70</td>\n",
              "    </tr>\n",
              "    <tr>\n",
              "      <th>7</th>\n",
              "      <td>380.0</td>\n",
              "      <td>95.0</td>\n",
              "      <td>0.0</td>\n",
              "      <td>228.0</td>\n",
              "      <td>0.0</td>\n",
              "      <td>932.0</td>\n",
              "      <td>594.0</td>\n",
              "      <td>28</td>\n",
              "      <td>36.45</td>\n",
              "    </tr>\n",
              "    <tr>\n",
              "      <th>8</th>\n",
              "      <td>266.0</td>\n",
              "      <td>114.0</td>\n",
              "      <td>0.0</td>\n",
              "      <td>228.0</td>\n",
              "      <td>0.0</td>\n",
              "      <td>932.0</td>\n",
              "      <td>670.0</td>\n",
              "      <td>28</td>\n",
              "      <td>45.85</td>\n",
              "    </tr>\n",
              "    <tr>\n",
              "      <th>9</th>\n",
              "      <td>475.0</td>\n",
              "      <td>0.0</td>\n",
              "      <td>0.0</td>\n",
              "      <td>228.0</td>\n",
              "      <td>0.0</td>\n",
              "      <td>932.0</td>\n",
              "      <td>594.0</td>\n",
              "      <td>28</td>\n",
              "      <td>39.29</td>\n",
              "    </tr>\n",
              "  </tbody>\n",
              "</table>\n",
              "</div>"
            ],
            "text/plain": [
              "   Cement  BlastFurnaceSlag  FlyAsh  ...  FineAggregate  Age  CC_Strength\n",
              "0   540.0               0.0     0.0  ...          676.0   28        79.99\n",
              "1   540.0               0.0     0.0  ...          676.0   28        61.89\n",
              "2   332.5             142.5     0.0  ...          594.0  270        40.27\n",
              "3   332.5             142.5     0.0  ...          594.0  365        41.05\n",
              "4   198.6             132.4     0.0  ...          825.5  360        44.30\n",
              "5   266.0             114.0     0.0  ...          670.0   90        47.03\n",
              "6   380.0              95.0     0.0  ...          594.0  365        43.70\n",
              "7   380.0              95.0     0.0  ...          594.0   28        36.45\n",
              "8   266.0             114.0     0.0  ...          670.0   28        45.85\n",
              "9   475.0               0.0     0.0  ...          594.0   28        39.29\n",
              "\n",
              "[10 rows x 9 columns]"
            ]
          },
          "metadata": {
            "tags": []
          },
          "execution_count": 20
        }
      ]
    },
    {
      "cell_type": "code",
      "metadata": {
        "colab": {
          "base_uri": "https://localhost:8080/",
          "height": 419
        },
        "id": "a8a64GZ6Z0IB",
        "outputId": "03fffa4c-91a4-404e-f145-fdba7c69431d"
      },
      "source": [
        ""
      ],
      "execution_count": null,
      "outputs": [
        {
          "output_type": "execute_result",
          "data": {
            "text/html": [
              "<div>\n",
              "<style scoped>\n",
              "    .dataframe tbody tr th:only-of-type {\n",
              "        vertical-align: middle;\n",
              "    }\n",
              "\n",
              "    .dataframe tbody tr th {\n",
              "        vertical-align: top;\n",
              "    }\n",
              "\n",
              "    .dataframe thead th {\n",
              "        text-align: right;\n",
              "    }\n",
              "</style>\n",
              "<table border=\"1\" class=\"dataframe\">\n",
              "  <thead>\n",
              "    <tr style=\"text-align: right;\">\n",
              "      <th></th>\n",
              "      <th>Cement</th>\n",
              "      <th>BlastFurnaceSlag</th>\n",
              "      <th>FlyAsh</th>\n",
              "      <th>Water</th>\n",
              "      <th>Superplasticizer</th>\n",
              "      <th>CoarseAggregate</th>\n",
              "      <th>FineAggregate</th>\n",
              "      <th>Age</th>\n",
              "    </tr>\n",
              "  </thead>\n",
              "  <tbody>\n",
              "    <tr>\n",
              "      <th>0</th>\n",
              "      <td>540.0</td>\n",
              "      <td>0.0</td>\n",
              "      <td>0.0</td>\n",
              "      <td>162.0</td>\n",
              "      <td>2.5</td>\n",
              "      <td>1040.0</td>\n",
              "      <td>676.0</td>\n",
              "      <td>28</td>\n",
              "    </tr>\n",
              "    <tr>\n",
              "      <th>1</th>\n",
              "      <td>540.0</td>\n",
              "      <td>0.0</td>\n",
              "      <td>0.0</td>\n",
              "      <td>162.0</td>\n",
              "      <td>2.5</td>\n",
              "      <td>1055.0</td>\n",
              "      <td>676.0</td>\n",
              "      <td>28</td>\n",
              "    </tr>\n",
              "    <tr>\n",
              "      <th>2</th>\n",
              "      <td>332.5</td>\n",
              "      <td>142.5</td>\n",
              "      <td>0.0</td>\n",
              "      <td>228.0</td>\n",
              "      <td>0.0</td>\n",
              "      <td>932.0</td>\n",
              "      <td>594.0</td>\n",
              "      <td>270</td>\n",
              "    </tr>\n",
              "    <tr>\n",
              "      <th>3</th>\n",
              "      <td>332.5</td>\n",
              "      <td>142.5</td>\n",
              "      <td>0.0</td>\n",
              "      <td>228.0</td>\n",
              "      <td>0.0</td>\n",
              "      <td>932.0</td>\n",
              "      <td>594.0</td>\n",
              "      <td>365</td>\n",
              "    </tr>\n",
              "    <tr>\n",
              "      <th>4</th>\n",
              "      <td>198.6</td>\n",
              "      <td>132.4</td>\n",
              "      <td>0.0</td>\n",
              "      <td>192.0</td>\n",
              "      <td>0.0</td>\n",
              "      <td>978.4</td>\n",
              "      <td>825.5</td>\n",
              "      <td>360</td>\n",
              "    </tr>\n",
              "    <tr>\n",
              "      <th>...</th>\n",
              "      <td>...</td>\n",
              "      <td>...</td>\n",
              "      <td>...</td>\n",
              "      <td>...</td>\n",
              "      <td>...</td>\n",
              "      <td>...</td>\n",
              "      <td>...</td>\n",
              "      <td>...</td>\n",
              "    </tr>\n",
              "    <tr>\n",
              "      <th>1025</th>\n",
              "      <td>276.4</td>\n",
              "      <td>116.0</td>\n",
              "      <td>90.3</td>\n",
              "      <td>179.6</td>\n",
              "      <td>8.9</td>\n",
              "      <td>870.1</td>\n",
              "      <td>768.3</td>\n",
              "      <td>28</td>\n",
              "    </tr>\n",
              "    <tr>\n",
              "      <th>1026</th>\n",
              "      <td>322.2</td>\n",
              "      <td>0.0</td>\n",
              "      <td>115.6</td>\n",
              "      <td>196.0</td>\n",
              "      <td>10.4</td>\n",
              "      <td>817.9</td>\n",
              "      <td>813.4</td>\n",
              "      <td>28</td>\n",
              "    </tr>\n",
              "    <tr>\n",
              "      <th>1027</th>\n",
              "      <td>148.5</td>\n",
              "      <td>139.4</td>\n",
              "      <td>108.6</td>\n",
              "      <td>192.7</td>\n",
              "      <td>6.1</td>\n",
              "      <td>892.4</td>\n",
              "      <td>780.0</td>\n",
              "      <td>28</td>\n",
              "    </tr>\n",
              "    <tr>\n",
              "      <th>1028</th>\n",
              "      <td>159.1</td>\n",
              "      <td>186.7</td>\n",
              "      <td>0.0</td>\n",
              "      <td>175.6</td>\n",
              "      <td>11.3</td>\n",
              "      <td>989.6</td>\n",
              "      <td>788.9</td>\n",
              "      <td>28</td>\n",
              "    </tr>\n",
              "    <tr>\n",
              "      <th>1029</th>\n",
              "      <td>260.9</td>\n",
              "      <td>100.5</td>\n",
              "      <td>78.3</td>\n",
              "      <td>200.6</td>\n",
              "      <td>8.6</td>\n",
              "      <td>864.5</td>\n",
              "      <td>761.5</td>\n",
              "      <td>28</td>\n",
              "    </tr>\n",
              "  </tbody>\n",
              "</table>\n",
              "<p>1030 rows × 8 columns</p>\n",
              "</div>"
            ],
            "text/plain": [
              "      Cement  BlastFurnaceSlag  FlyAsh  ...  CoarseAggregate  FineAggregate  Age\n",
              "0      540.0               0.0     0.0  ...           1040.0          676.0   28\n",
              "1      540.0               0.0     0.0  ...           1055.0          676.0   28\n",
              "2      332.5             142.5     0.0  ...            932.0          594.0  270\n",
              "3      332.5             142.5     0.0  ...            932.0          594.0  365\n",
              "4      198.6             132.4     0.0  ...            978.4          825.5  360\n",
              "...      ...               ...     ...  ...              ...            ...  ...\n",
              "1025   276.4             116.0    90.3  ...            870.1          768.3   28\n",
              "1026   322.2               0.0   115.6  ...            817.9          813.4   28\n",
              "1027   148.5             139.4   108.6  ...            892.4          780.0   28\n",
              "1028   159.1             186.7     0.0  ...            989.6          788.9   28\n",
              "1029   260.9             100.5    78.3  ...            864.5          761.5   28\n",
              "\n",
              "[1030 rows x 8 columns]"
            ]
          },
          "metadata": {
            "tags": []
          },
          "execution_count": 23
        }
      ]
    },
    {
      "cell_type": "code",
      "metadata": {
        "colab": {
          "base_uri": "https://localhost:8080/",
          "height": 204
        },
        "id": "qk0T3DOdcGIn",
        "outputId": "e4622a6b-44b5-4cf2-cba0-6521cbade826"
      },
      "source": [
        "min_d = concrete_data.min()\n",
        "max_d = concrete_data.max()\n",
        "diff = max_d - min_d\n",
        "normalized_df=(concrete_data - min_d)/ diff\n",
        "normalized_df.head()"
      ],
      "execution_count": null,
      "outputs": [
        {
          "output_type": "execute_result",
          "data": {
            "text/html": [
              "<div>\n",
              "<style scoped>\n",
              "    .dataframe tbody tr th:only-of-type {\n",
              "        vertical-align: middle;\n",
              "    }\n",
              "\n",
              "    .dataframe tbody tr th {\n",
              "        vertical-align: top;\n",
              "    }\n",
              "\n",
              "    .dataframe thead th {\n",
              "        text-align: right;\n",
              "    }\n",
              "</style>\n",
              "<table border=\"1\" class=\"dataframe\">\n",
              "  <thead>\n",
              "    <tr style=\"text-align: right;\">\n",
              "      <th></th>\n",
              "      <th>Cement</th>\n",
              "      <th>BlastFurnaceSlag</th>\n",
              "      <th>FlyAsh</th>\n",
              "      <th>Water</th>\n",
              "      <th>Superplasticizer</th>\n",
              "      <th>CoarseAggregate</th>\n",
              "      <th>FineAggregate</th>\n",
              "      <th>Age</th>\n",
              "      <th>CC_Strength</th>\n",
              "    </tr>\n",
              "  </thead>\n",
              "  <tbody>\n",
              "    <tr>\n",
              "      <th>0</th>\n",
              "      <td>1.000000</td>\n",
              "      <td>0.000000</td>\n",
              "      <td>0.0</td>\n",
              "      <td>0.321086</td>\n",
              "      <td>0.07764</td>\n",
              "      <td>0.694767</td>\n",
              "      <td>0.205720</td>\n",
              "      <td>0.074176</td>\n",
              "      <td>0.967485</td>\n",
              "    </tr>\n",
              "    <tr>\n",
              "      <th>1</th>\n",
              "      <td>1.000000</td>\n",
              "      <td>0.000000</td>\n",
              "      <td>0.0</td>\n",
              "      <td>0.321086</td>\n",
              "      <td>0.07764</td>\n",
              "      <td>0.738372</td>\n",
              "      <td>0.205720</td>\n",
              "      <td>0.074176</td>\n",
              "      <td>0.741996</td>\n",
              "    </tr>\n",
              "    <tr>\n",
              "      <th>2</th>\n",
              "      <td>0.526256</td>\n",
              "      <td>0.396494</td>\n",
              "      <td>0.0</td>\n",
              "      <td>0.848243</td>\n",
              "      <td>0.00000</td>\n",
              "      <td>0.380814</td>\n",
              "      <td>0.000000</td>\n",
              "      <td>0.739011</td>\n",
              "      <td>0.472655</td>\n",
              "    </tr>\n",
              "    <tr>\n",
              "      <th>3</th>\n",
              "      <td>0.526256</td>\n",
              "      <td>0.396494</td>\n",
              "      <td>0.0</td>\n",
              "      <td>0.848243</td>\n",
              "      <td>0.00000</td>\n",
              "      <td>0.380814</td>\n",
              "      <td>0.000000</td>\n",
              "      <td>1.000000</td>\n",
              "      <td>0.482372</td>\n",
              "    </tr>\n",
              "    <tr>\n",
              "      <th>4</th>\n",
              "      <td>0.220548</td>\n",
              "      <td>0.368392</td>\n",
              "      <td>0.0</td>\n",
              "      <td>0.560703</td>\n",
              "      <td>0.00000</td>\n",
              "      <td>0.515698</td>\n",
              "      <td>0.580783</td>\n",
              "      <td>0.986264</td>\n",
              "      <td>0.522860</td>\n",
              "    </tr>\n",
              "  </tbody>\n",
              "</table>\n",
              "</div>"
            ],
            "text/plain": [
              "     Cement  BlastFurnaceSlag  FlyAsh  ...  FineAggregate       Age  CC_Strength\n",
              "0  1.000000          0.000000     0.0  ...       0.205720  0.074176     0.967485\n",
              "1  1.000000          0.000000     0.0  ...       0.205720  0.074176     0.741996\n",
              "2  0.526256          0.396494     0.0  ...       0.000000  0.739011     0.472655\n",
              "3  0.526256          0.396494     0.0  ...       0.000000  1.000000     0.482372\n",
              "4  0.220548          0.368392     0.0  ...       0.580783  0.986264     0.522860\n",
              "\n",
              "[5 rows x 9 columns]"
            ]
          },
          "metadata": {
            "tags": []
          },
          "execution_count": 24
        }
      ]
    },
    {
      "cell_type": "code",
      "metadata": {
        "id": "OKGob7bmcI87"
      },
      "source": [
        "test_d = normalized_df.sample(frac=0.3, random_state=1337)\n",
        "train_d = normalized_df.drop(test_d.index)"
      ],
      "execution_count": null,
      "outputs": []
    },
    {
      "cell_type": "code",
      "metadata": {
        "id": "kv6LDeLJaWnr"
      },
      "source": [
        "train_data = train_d.iloc[:,:-1]\n",
        "train_label = train_d.iloc[:,-1]"
      ],
      "execution_count": null,
      "outputs": []
    },
    {
      "cell_type": "code",
      "metadata": {
        "id": "ot0XaNiJcXqe"
      },
      "source": [
        "test_data = test_d.iloc[:,:-1]\n",
        "test_label = test_d.iloc[:,-1]"
      ],
      "execution_count": null,
      "outputs": []
    },
    {
      "cell_type": "code",
      "metadata": {
        "colab": {
          "base_uri": "https://localhost:8080/"
        },
        "id": "5EJkhOyCcj9m",
        "outputId": "5612d0b1-3bd5-44ec-9712-e3a4a31dc29d"
      },
      "source": [
        "print(train_data.shape)\n",
        "print(train_label.shape)\n",
        "\n",
        "print(test_data.shape)\n",
        "print(test_label.shape)"
      ],
      "execution_count": null,
      "outputs": [
        {
          "output_type": "stream",
          "text": [
            "(721, 8)\n",
            "(721,)\n",
            "(309, 8)\n",
            "(309,)\n"
          ],
          "name": "stdout"
        }
      ]
    },
    {
      "cell_type": "code",
      "metadata": {
        "id": "mEO5S6QEcw6w"
      },
      "source": [
        "train_data = train_data.to_numpy()\n",
        "test_data = test_data.to_numpy()"
      ],
      "execution_count": null,
      "outputs": []
    },
    {
      "cell_type": "code",
      "metadata": {
        "id": "5X7Pjg2Ec3vE"
      },
      "source": [
        "test_labels= np.array(test_label.astype('float32'))\n",
        "train_labels= np.array(train_label.astype('float32'))"
      ],
      "execution_count": null,
      "outputs": []
    },
    {
      "cell_type": "code",
      "metadata": {
        "colab": {
          "base_uri": "https://localhost:8080/"
        },
        "id": "tIUQPH5Xc_fx",
        "outputId": "09216d18-19b3-4c70-e69e-0d15f0f31bcb"
      },
      "source": [
        "train_labels.shape"
      ],
      "execution_count": null,
      "outputs": [
        {
          "output_type": "execute_result",
          "data": {
            "text/plain": [
              "(721,)"
            ]
          },
          "metadata": {
            "tags": []
          },
          "execution_count": 31
        }
      ]
    },
    {
      "cell_type": "code",
      "metadata": {
        "id": "Ia8G8MRwdDOY"
      },
      "source": [
        "def build_model(act):\n",
        "  model = models.Sequential()\n",
        "  model.add(layers.Dense(10, activation= act,input_shape=(train_data.shape[1],)))\n",
        "  model.add(layers.Dense(8, activation= act))\n",
        "  model.add(layers.Dense(6, activation= act))\n",
        "  model.add(layers.Dense(1))\n",
        "  model.compile(optimizer='rmsprop', loss='mse', metrics=['mae'])\n",
        "  return model"
      ],
      "execution_count": null,
      "outputs": []
    },
    {
      "cell_type": "code",
      "metadata": {
        "colab": {
          "base_uri": "https://localhost:8080/"
        },
        "id": "XOLkCSXydQOq",
        "outputId": "7cdace35-6014-4fb9-8ec1-b244fe12d8c5"
      },
      "source": [
        "build_model('relu').summary()"
      ],
      "execution_count": null,
      "outputs": [
        {
          "output_type": "stream",
          "text": [
            "Model: \"sequential\"\n",
            "_________________________________________________________________\n",
            "Layer (type)                 Output Shape              Param #   \n",
            "=================================================================\n",
            "dense (Dense)                (None, 10)                90        \n",
            "_________________________________________________________________\n",
            "dense_1 (Dense)              (None, 8)                 88        \n",
            "_________________________________________________________________\n",
            "dense_2 (Dense)              (None, 6)                 54        \n",
            "_________________________________________________________________\n",
            "dense_3 (Dense)              (None, 1)                 7         \n",
            "=================================================================\n",
            "Total params: 239\n",
            "Trainable params: 239\n",
            "Non-trainable params: 0\n",
            "_________________________________________________________________\n"
          ],
          "name": "stdout"
        }
      ]
    },
    {
      "cell_type": "code",
      "metadata": {
        "colab": {
          "base_uri": "https://localhost:8080/"
        },
        "id": "kpe5S5DHdYw0",
        "outputId": "45a77c34-3a48-4bad-ff22-7689164496ec"
      },
      "source": [
        "model = build_model('relu')\n",
        "history = model.fit(train_data, train_labels,epochs= 100, batch_size=1, validation_split=0.3)"
      ],
      "execution_count": null,
      "outputs": [
        {
          "output_type": "stream",
          "text": [
            "Epoch 1/100\n",
            "504/504 [==============================] - 2s 2ms/step - loss: 0.1313 - mae: 0.2888 - val_loss: 0.0296 - val_mae: 0.1378\n",
            "Epoch 2/100\n",
            "504/504 [==============================] - 1s 1ms/step - loss: 0.0318 - mae: 0.1432 - val_loss: 0.0236 - val_mae: 0.1213\n",
            "Epoch 3/100\n",
            "504/504 [==============================] - 1s 1ms/step - loss: 0.0247 - mae: 0.1262 - val_loss: 0.0239 - val_mae: 0.1208\n",
            "Epoch 4/100\n",
            "504/504 [==============================] - 1s 1ms/step - loss: 0.0190 - mae: 0.1062 - val_loss: 0.0234 - val_mae: 0.1183\n",
            "Epoch 5/100\n",
            "504/504 [==============================] - 1s 1ms/step - loss: 0.0164 - mae: 0.0969 - val_loss: 0.0218 - val_mae: 0.1144\n",
            "Epoch 6/100\n",
            "504/504 [==============================] - 1s 1ms/step - loss: 0.0133 - mae: 0.0869 - val_loss: 0.0219 - val_mae: 0.1166\n",
            "Epoch 7/100\n",
            "504/504 [==============================] - 1s 1ms/step - loss: 0.0134 - mae: 0.0871 - val_loss: 0.0186 - val_mae: 0.1062\n",
            "Epoch 8/100\n",
            "504/504 [==============================] - 1s 1ms/step - loss: 0.0114 - mae: 0.0788 - val_loss: 0.0223 - val_mae: 0.1183\n",
            "Epoch 9/100\n",
            "504/504 [==============================] - 1s 1ms/step - loss: 0.0111 - mae: 0.0777 - val_loss: 0.0213 - val_mae: 0.1124\n",
            "Epoch 10/100\n",
            "504/504 [==============================] - 1s 1ms/step - loss: 0.0107 - mae: 0.0750 - val_loss: 0.0178 - val_mae: 0.1048\n",
            "Epoch 11/100\n",
            "504/504 [==============================] - 1s 1ms/step - loss: 0.0085 - mae: 0.0719 - val_loss: 0.0260 - val_mae: 0.1262\n",
            "Epoch 12/100\n",
            "504/504 [==============================] - 1s 1ms/step - loss: 0.0102 - mae: 0.0757 - val_loss: 0.0270 - val_mae: 0.1300\n",
            "Epoch 13/100\n",
            "504/504 [==============================] - 1s 1ms/step - loss: 0.0084 - mae: 0.0708 - val_loss: 0.0229 - val_mae: 0.1180\n",
            "Epoch 14/100\n",
            "504/504 [==============================] - 1s 1ms/step - loss: 0.0092 - mae: 0.0687 - val_loss: 0.0272 - val_mae: 0.1300\n",
            "Epoch 15/100\n",
            "504/504 [==============================] - 1s 1ms/step - loss: 0.0080 - mae: 0.0674 - val_loss: 0.0286 - val_mae: 0.1369\n",
            "Epoch 16/100\n",
            "504/504 [==============================] - 1s 1ms/step - loss: 0.0074 - mae: 0.0632 - val_loss: 0.0258 - val_mae: 0.1272\n",
            "Epoch 17/100\n",
            "504/504 [==============================] - 1s 1ms/step - loss: 0.0062 - mae: 0.0610 - val_loss: 0.0284 - val_mae: 0.1360\n",
            "Epoch 18/100\n",
            "504/504 [==============================] - 1s 1ms/step - loss: 0.0068 - mae: 0.0621 - val_loss: 0.0305 - val_mae: 0.1407\n",
            "Epoch 19/100\n",
            "504/504 [==============================] - 1s 1ms/step - loss: 0.0059 - mae: 0.0582 - val_loss: 0.0305 - val_mae: 0.1392\n",
            "Epoch 20/100\n",
            "504/504 [==============================] - 1s 1ms/step - loss: 0.0063 - mae: 0.0597 - val_loss: 0.0251 - val_mae: 0.1258\n",
            "Epoch 21/100\n",
            "504/504 [==============================] - 1s 1ms/step - loss: 0.0062 - mae: 0.0596 - val_loss: 0.0376 - val_mae: 0.1606\n",
            "Epoch 22/100\n",
            "504/504 [==============================] - 1s 1ms/step - loss: 0.0069 - mae: 0.0623 - val_loss: 0.0251 - val_mae: 0.1260\n",
            "Epoch 23/100\n",
            "504/504 [==============================] - 1s 1ms/step - loss: 0.0063 - mae: 0.0607 - val_loss: 0.0304 - val_mae: 0.1445\n",
            "Epoch 24/100\n",
            "504/504 [==============================] - 1s 1ms/step - loss: 0.0072 - mae: 0.0612 - val_loss: 0.0253 - val_mae: 0.1275\n",
            "Epoch 25/100\n",
            "504/504 [==============================] - 1s 1ms/step - loss: 0.0061 - mae: 0.0582 - val_loss: 0.0315 - val_mae: 0.1435\n",
            "Epoch 26/100\n",
            "504/504 [==============================] - 1s 1ms/step - loss: 0.0062 - mae: 0.0608 - val_loss: 0.0255 - val_mae: 0.1280\n",
            "Epoch 27/100\n",
            "504/504 [==============================] - 1s 1ms/step - loss: 0.0067 - mae: 0.0613 - val_loss: 0.0202 - val_mae: 0.1145\n",
            "Epoch 28/100\n",
            "504/504 [==============================] - 1s 1ms/step - loss: 0.0055 - mae: 0.0557 - val_loss: 0.0210 - val_mae: 0.1156\n",
            "Epoch 29/100\n",
            "504/504 [==============================] - 1s 1ms/step - loss: 0.0064 - mae: 0.0611 - val_loss: 0.0222 - val_mae: 0.1187\n",
            "Epoch 30/100\n",
            "504/504 [==============================] - 1s 1ms/step - loss: 0.0060 - mae: 0.0579 - val_loss: 0.0189 - val_mae: 0.1104\n",
            "Epoch 31/100\n",
            "504/504 [==============================] - 1s 1ms/step - loss: 0.0077 - mae: 0.0644 - val_loss: 0.0200 - val_mae: 0.1144\n",
            "Epoch 32/100\n",
            "504/504 [==============================] - 1s 1ms/step - loss: 0.0071 - mae: 0.0617 - val_loss: 0.0222 - val_mae: 0.1199\n",
            "Epoch 33/100\n",
            "504/504 [==============================] - 1s 1ms/step - loss: 0.0058 - mae: 0.0576 - val_loss: 0.0234 - val_mae: 0.1237\n",
            "Epoch 34/100\n",
            "504/504 [==============================] - 1s 1ms/step - loss: 0.0059 - mae: 0.0577 - val_loss: 0.0217 - val_mae: 0.1193\n",
            "Epoch 35/100\n",
            "504/504 [==============================] - 1s 1ms/step - loss: 0.0060 - mae: 0.0584 - val_loss: 0.0246 - val_mae: 0.1273\n",
            "Epoch 36/100\n",
            "504/504 [==============================] - 1s 1ms/step - loss: 0.0065 - mae: 0.0612 - val_loss: 0.0184 - val_mae: 0.1086\n",
            "Epoch 37/100\n",
            "504/504 [==============================] - 1s 1ms/step - loss: 0.0058 - mae: 0.0566 - val_loss: 0.0212 - val_mae: 0.1158\n",
            "Epoch 38/100\n",
            "504/504 [==============================] - 1s 1ms/step - loss: 0.0051 - mae: 0.0527 - val_loss: 0.0159 - val_mae: 0.1013\n",
            "Epoch 39/100\n",
            "504/504 [==============================] - 1s 1ms/step - loss: 0.0044 - mae: 0.0502 - val_loss: 0.0158 - val_mae: 0.1021\n",
            "Epoch 40/100\n",
            "504/504 [==============================] - 1s 2ms/step - loss: 0.0057 - mae: 0.0574 - val_loss: 0.0199 - val_mae: 0.1122\n",
            "Epoch 41/100\n",
            "504/504 [==============================] - 1s 1ms/step - loss: 0.0053 - mae: 0.0548 - val_loss: 0.0177 - val_mae: 0.1059\n",
            "Epoch 42/100\n",
            "504/504 [==============================] - 1s 1ms/step - loss: 0.0059 - mae: 0.0561 - val_loss: 0.0146 - val_mae: 0.0964\n",
            "Epoch 43/100\n",
            "504/504 [==============================] - 1s 1ms/step - loss: 0.0053 - mae: 0.0550 - val_loss: 0.0170 - val_mae: 0.1041\n",
            "Epoch 44/100\n",
            "504/504 [==============================] - 1s 1ms/step - loss: 0.0049 - mae: 0.0536 - val_loss: 0.0171 - val_mae: 0.1043\n",
            "Epoch 45/100\n",
            "504/504 [==============================] - 1s 1ms/step - loss: 0.0056 - mae: 0.0563 - val_loss: 0.0214 - val_mae: 0.1180\n",
            "Epoch 46/100\n",
            "504/504 [==============================] - 1s 1ms/step - loss: 0.0062 - mae: 0.0604 - val_loss: 0.0239 - val_mae: 0.1252\n",
            "Epoch 47/100\n",
            "504/504 [==============================] - 1s 1ms/step - loss: 0.0060 - mae: 0.0583 - val_loss: 0.0166 - val_mae: 0.1047\n",
            "Epoch 48/100\n",
            "504/504 [==============================] - 1s 1ms/step - loss: 0.0057 - mae: 0.0563 - val_loss: 0.0210 - val_mae: 0.1194\n",
            "Epoch 49/100\n",
            "504/504 [==============================] - 1s 1ms/step - loss: 0.0057 - mae: 0.0567 - val_loss: 0.0229 - val_mae: 0.1246\n",
            "Epoch 50/100\n",
            "504/504 [==============================] - 1s 1ms/step - loss: 0.0057 - mae: 0.0562 - val_loss: 0.0301 - val_mae: 0.1453\n",
            "Epoch 51/100\n",
            "504/504 [==============================] - 1s 1ms/step - loss: 0.0054 - mae: 0.0535 - val_loss: 0.0172 - val_mae: 0.1049\n",
            "Epoch 52/100\n",
            "504/504 [==============================] - 1s 1ms/step - loss: 0.0056 - mae: 0.0557 - val_loss: 0.0208 - val_mae: 0.1183\n",
            "Epoch 53/100\n",
            "504/504 [==============================] - 1s 1ms/step - loss: 0.0051 - mae: 0.0533 - val_loss: 0.0238 - val_mae: 0.1281\n",
            "Epoch 54/100\n",
            "504/504 [==============================] - 1s 1ms/step - loss: 0.0055 - mae: 0.0557 - val_loss: 0.0193 - val_mae: 0.1118\n",
            "Epoch 55/100\n",
            "504/504 [==============================] - 1s 1ms/step - loss: 0.0050 - mae: 0.0549 - val_loss: 0.0159 - val_mae: 0.1009\n",
            "Epoch 56/100\n",
            "504/504 [==============================] - 1s 1ms/step - loss: 0.0048 - mae: 0.0519 - val_loss: 0.0119 - val_mae: 0.0888\n",
            "Epoch 57/100\n",
            "504/504 [==============================] - 1s 1ms/step - loss: 0.0054 - mae: 0.0549 - val_loss: 0.0167 - val_mae: 0.1034\n",
            "Epoch 58/100\n",
            "504/504 [==============================] - 1s 1ms/step - loss: 0.0055 - mae: 0.0558 - val_loss: 0.0180 - val_mae: 0.1067\n",
            "Epoch 59/100\n",
            "504/504 [==============================] - 1s 1ms/step - loss: 0.0043 - mae: 0.0494 - val_loss: 0.0303 - val_mae: 0.1488\n",
            "Epoch 60/100\n",
            "504/504 [==============================] - 1s 1ms/step - loss: 0.0050 - mae: 0.0529 - val_loss: 0.0224 - val_mae: 0.1216\n",
            "Epoch 61/100\n",
            "504/504 [==============================] - 1s 1ms/step - loss: 0.0048 - mae: 0.0509 - val_loss: 0.0189 - val_mae: 0.1111\n",
            "Epoch 62/100\n",
            "504/504 [==============================] - 1s 1ms/step - loss: 0.0049 - mae: 0.0513 - val_loss: 0.0197 - val_mae: 0.1127\n",
            "Epoch 63/100\n",
            "504/504 [==============================] - 1s 1ms/step - loss: 0.0053 - mae: 0.0542 - val_loss: 0.0236 - val_mae: 0.1242\n",
            "Epoch 64/100\n",
            "504/504 [==============================] - 1s 1ms/step - loss: 0.0044 - mae: 0.0504 - val_loss: 0.0223 - val_mae: 0.1217\n",
            "Epoch 65/100\n",
            "504/504 [==============================] - 1s 1ms/step - loss: 0.0055 - mae: 0.0561 - val_loss: 0.0168 - val_mae: 0.1050\n",
            "Epoch 66/100\n",
            "504/504 [==============================] - 1s 1ms/step - loss: 0.0048 - mae: 0.0507 - val_loss: 0.0217 - val_mae: 0.1213\n",
            "Epoch 67/100\n",
            "504/504 [==============================] - 1s 1ms/step - loss: 0.0044 - mae: 0.0495 - val_loss: 0.0172 - val_mae: 0.1058\n",
            "Epoch 68/100\n",
            "504/504 [==============================] - 1s 1ms/step - loss: 0.0045 - mae: 0.0513 - val_loss: 0.0162 - val_mae: 0.1040\n",
            "Epoch 69/100\n",
            "504/504 [==============================] - 1s 1ms/step - loss: 0.0048 - mae: 0.0506 - val_loss: 0.0218 - val_mae: 0.1199\n",
            "Epoch 70/100\n",
            "504/504 [==============================] - 1s 1ms/step - loss: 0.0047 - mae: 0.0481 - val_loss: 0.0224 - val_mae: 0.1213\n",
            "Epoch 71/100\n",
            "504/504 [==============================] - 1s 1ms/step - loss: 0.0042 - mae: 0.0483 - val_loss: 0.0212 - val_mae: 0.1193\n",
            "Epoch 72/100\n",
            "504/504 [==============================] - 1s 1ms/step - loss: 0.0044 - mae: 0.0475 - val_loss: 0.0179 - val_mae: 0.1092\n",
            "Epoch 73/100\n",
            "504/504 [==============================] - 1s 1ms/step - loss: 0.0042 - mae: 0.0467 - val_loss: 0.0172 - val_mae: 0.1062\n",
            "Epoch 74/100\n",
            "504/504 [==============================] - 1s 1ms/step - loss: 0.0044 - mae: 0.0470 - val_loss: 0.0250 - val_mae: 0.1297\n",
            "Epoch 75/100\n",
            "504/504 [==============================] - 1s 1ms/step - loss: 0.0050 - mae: 0.0521 - val_loss: 0.0167 - val_mae: 0.1032\n",
            "Epoch 76/100\n",
            "504/504 [==============================] - 1s 1ms/step - loss: 0.0045 - mae: 0.0499 - val_loss: 0.0194 - val_mae: 0.1124\n",
            "Epoch 77/100\n",
            "504/504 [==============================] - 1s 1ms/step - loss: 0.0044 - mae: 0.0477 - val_loss: 0.0247 - val_mae: 0.1294\n",
            "Epoch 78/100\n",
            "504/504 [==============================] - 1s 1ms/step - loss: 0.0040 - mae: 0.0462 - val_loss: 0.0161 - val_mae: 0.1023\n",
            "Epoch 79/100\n",
            "504/504 [==============================] - 1s 1ms/step - loss: 0.0046 - mae: 0.0504 - val_loss: 0.0183 - val_mae: 0.1088\n",
            "Epoch 80/100\n",
            "504/504 [==============================] - 1s 1ms/step - loss: 0.0038 - mae: 0.0449 - val_loss: 0.0182 - val_mae: 0.1086\n",
            "Epoch 81/100\n",
            "504/504 [==============================] - 1s 1ms/step - loss: 0.0045 - mae: 0.0487 - val_loss: 0.0170 - val_mae: 0.1050\n",
            "Epoch 82/100\n",
            "504/504 [==============================] - 1s 1ms/step - loss: 0.0043 - mae: 0.0482 - val_loss: 0.0162 - val_mae: 0.1027\n",
            "Epoch 83/100\n",
            "504/504 [==============================] - 1s 1ms/step - loss: 0.0040 - mae: 0.0463 - val_loss: 0.0155 - val_mae: 0.1014\n",
            "Epoch 84/100\n",
            "504/504 [==============================] - 1s 1ms/step - loss: 0.0047 - mae: 0.0505 - val_loss: 0.0170 - val_mae: 0.1052\n",
            "Epoch 85/100\n",
            "504/504 [==============================] - 1s 1ms/step - loss: 0.0044 - mae: 0.0478 - val_loss: 0.0198 - val_mae: 0.1136\n",
            "Epoch 86/100\n",
            "504/504 [==============================] - 1s 1ms/step - loss: 0.0041 - mae: 0.0476 - val_loss: 0.0260 - val_mae: 0.1323\n",
            "Epoch 87/100\n",
            "504/504 [==============================] - 1s 1ms/step - loss: 0.0051 - mae: 0.0515 - val_loss: 0.0167 - val_mae: 0.1053\n",
            "Epoch 88/100\n",
            "504/504 [==============================] - 1s 1ms/step - loss: 0.0043 - mae: 0.0492 - val_loss: 0.0201 - val_mae: 0.1144\n",
            "Epoch 89/100\n",
            "504/504 [==============================] - 1s 1ms/step - loss: 0.0045 - mae: 0.0488 - val_loss: 0.0155 - val_mae: 0.1021\n",
            "Epoch 90/100\n",
            "504/504 [==============================] - 1s 1ms/step - loss: 0.0040 - mae: 0.0464 - val_loss: 0.0222 - val_mae: 0.1211\n",
            "Epoch 91/100\n",
            "504/504 [==============================] - 1s 1ms/step - loss: 0.0041 - mae: 0.0481 - val_loss: 0.0178 - val_mae: 0.1068\n",
            "Epoch 92/100\n",
            "504/504 [==============================] - 1s 1ms/step - loss: 0.0034 - mae: 0.0421 - val_loss: 0.0221 - val_mae: 0.1203\n",
            "Epoch 93/100\n",
            "504/504 [==============================] - 1s 1ms/step - loss: 0.0037 - mae: 0.0465 - val_loss: 0.0185 - val_mae: 0.1095\n",
            "Epoch 94/100\n",
            "504/504 [==============================] - 1s 1ms/step - loss: 0.0039 - mae: 0.0453 - val_loss: 0.0173 - val_mae: 0.1069\n",
            "Epoch 95/100\n",
            "504/504 [==============================] - 1s 1ms/step - loss: 0.0039 - mae: 0.0462 - val_loss: 0.0190 - val_mae: 0.1107\n",
            "Epoch 96/100\n",
            "504/504 [==============================] - 1s 1ms/step - loss: 0.0034 - mae: 0.0431 - val_loss: 0.0200 - val_mae: 0.1146\n",
            "Epoch 97/100\n",
            "504/504 [==============================] - 1s 1ms/step - loss: 0.0043 - mae: 0.0479 - val_loss: 0.0217 - val_mae: 0.1189\n",
            "Epoch 98/100\n",
            "504/504 [==============================] - 1s 1ms/step - loss: 0.0038 - mae: 0.0455 - val_loss: 0.0191 - val_mae: 0.1132\n",
            "Epoch 99/100\n",
            "504/504 [==============================] - 1s 1ms/step - loss: 0.0037 - mae: 0.0463 - val_loss: 0.0188 - val_mae: 0.1128\n",
            "Epoch 100/100\n",
            "504/504 [==============================] - 1s 1ms/step - loss: 0.0041 - mae: 0.0470 - val_loss: 0.0281 - val_mae: 0.1393\n"
          ],
          "name": "stdout"
        }
      ]
    },
    {
      "cell_type": "code",
      "metadata": {
        "colab": {
          "base_uri": "https://localhost:8080/"
        },
        "id": "9PJ-oZaCdwd3",
        "outputId": "0ce1c544-be9d-41b1-e9dd-7e2883407b3e"
      },
      "source": [
        "test_mse_score, test_mae_score = model.evaluate(test_data, test_labels)"
      ],
      "execution_count": null,
      "outputs": [
        {
          "output_type": "stream",
          "text": [
            "10/10 [==============================] - 0s 2ms/step - loss: 0.0135 - mae: 0.0875\n"
          ],
          "name": "stdout"
        }
      ]
    },
    {
      "cell_type": "code",
      "metadata": {
        "colab": {
          "base_uri": "https://localhost:8080/"
        },
        "id": "hzQXv0lsd5wq",
        "outputId": "101ade66-aa96-458d-8132-4470db570bda"
      },
      "source": [
        "history.history.keys()"
      ],
      "execution_count": null,
      "outputs": [
        {
          "output_type": "execute_result",
          "data": {
            "text/plain": [
              "dict_keys(['loss', 'mae', 'val_loss', 'val_mae'])"
            ]
          },
          "metadata": {
            "tags": []
          },
          "execution_count": 37
        }
      ]
    },
    {
      "cell_type": "code",
      "metadata": {
        "id": "jKekvVBOd71e"
      },
      "source": [
        "val_mae = history.history['val_mae']\n",
        "val_loss = history.history['val_loss']"
      ],
      "execution_count": null,
      "outputs": []
    },
    {
      "cell_type": "code",
      "metadata": {
        "colab": {
          "base_uri": "https://localhost:8080/",
          "height": 295
        },
        "id": "HZmLZsv5eIC7",
        "outputId": "63c06d0a-fbff-4b75-b723-d4e6eae589c1"
      },
      "source": [
        "history_dict = history.history\n",
        "loss_values = history_dict['loss']\n",
        "val_loss_values = history_dict['val_loss']\n",
        "epochs = range(len(history_dict['loss']))\n",
        "plt.plot(epochs, loss_values, 'bo', label='Training loss')\n",
        "plt.plot(epochs, val_loss_values, 'b', label='Validation loss')\n",
        "plt.title('Training and validation loss')\n",
        "plt.xlabel('Epochs')\n",
        "plt.ylabel('Loss')\n",
        "plt.legend()\n",
        "plt.show()"
      ],
      "execution_count": null,
      "outputs": [
        {
          "output_type": "display_data",
          "data": {
            "image/png": "[encoded data removed]",
            "text/plain": [
              "<Figure size 432x288 with 1 Axes>"
            ]
          },
          "metadata": {
            "tags": [],
            "needs_background": "light"
          }
        }
      ]
    },
    {
      "cell_type": "code",
      "metadata": {
        "colab": {
          "base_uri": "https://localhost:8080/",
          "height": 295
        },
        "id": "7ms9-F0UeVOk",
        "outputId": "2b45e0dc-9cd3-4a9a-d5a4-1eb1c573bfe5"
      },
      "source": [
        "acc_values = history_dict['mae']\n",
        "val_acc_values = history_dict['val_mae']\n",
        "plt.plot(epochs, acc_values, 'bo', label='Training mae')\n",
        "plt.plot(epochs, val_acc_values, 'b', label='Validation mae')\n",
        "plt.title('Training and validation accuracy')\n",
        "plt.xlabel('Epochs')\n",
        "plt.ylabel('mae')\n",
        "plt.legend()\n",
        "plt.show()"
      ],
      "execution_count": null,
      "outputs": [
        {
          "output_type": "display_data",
          "data": {
            "image/png": "[encoded data removed]",
            "text/plain": [
              "<Figure size 432x288 with 1 Axes>"
            ]
          },
          "metadata": {
            "tags": [],
            "needs_background": "light"
          }
        }
      ]
    },
    {
      "cell_type": "code",
      "metadata": {
        "id": "vO-6g_TEeciQ"
      },
      "source": [
        "y_predict = model.predict(test_data)"
      ],
      "execution_count": null,
      "outputs": []
    },
    {
      "cell_type": "code",
      "metadata": {
        "id": "t-ZEdpa1e7uE"
      },
      "source": [
        "mean_label = concrete_data.iloc[:,-1].mean()\n",
        "std_label = concrete_data.iloc[:,-1].std()"
      ],
      "execution_count": null,
      "outputs": []
    },
    {
      "cell_type": "code",
      "metadata": {
        "id": "N2wS3uxiegyc"
      },
      "source": [
        "def denorm(x):\n",
        "    return (x * std_label) + mean_label"
      ],
      "execution_count": null,
      "outputs": []
    },
    {
      "cell_type": "code",
      "metadata": {
        "colab": {
          "base_uri": "https://localhost:8080/"
        },
        "id": "Zu3zxbX7eoHh",
        "outputId": "e52e1b31-6ae6-4f2b-cc49-b3ffdc4c4a9e"
      },
      "source": [
        "y_predict = denorm(y_predict)\n",
        "y_predict = y_predict.flatten()\n",
        "y_predict.shape"
      ],
      "execution_count": null,
      "outputs": [
        {
          "output_type": "execute_result",
          "data": {
            "text/plain": [
              "(309,)"
            ]
          },
          "metadata": {
            "tags": []
          },
          "execution_count": 47
        }
      ]
    },
    {
      "cell_type": "code",
      "metadata": {
        "colab": {
          "base_uri": "https://localhost:8080/"
        },
        "id": "zdQDZqVtey5F",
        "outputId": "da71e702-7e07-456c-8257-96a072f38071"
      },
      "source": [
        "y_true = denorm(test_labels)\n",
        "y_true = y_true.flatten()\n",
        "test_labels.shape"
      ],
      "execution_count": null,
      "outputs": [
        {
          "output_type": "execute_result",
          "data": {
            "text/plain": [
              "(309,)"
            ]
          },
          "metadata": {
            "tags": []
          },
          "execution_count": 48
        }
      ]
    },
    {
      "cell_type": "code",
      "metadata": {
        "colab": {
          "base_uri": "https://localhost:8080/",
          "height": 286
        },
        "id": "BL7utdF7fJV5",
        "outputId": "f085a479-af9c-4907-e37d-c81d838b434d"
      },
      "source": [
        "coef = np.polyfit(y_true,y_predict,1)\n",
        "poly1d_fn = np.poly1d(coef) \n",
        "# poly1d_fn is now a function which takes in x and returns an estimate for y\n",
        "\n",
        "plt.plot(y_true, y_predict, 'bo', y_true, poly1d_fn(y_true), '--k')\n",
        "plt.xlim(0, 60)\n",
        "plt.ylim(0, 60)"
      ],
      "execution_count": null,
      "outputs": [
        {
          "output_type": "execute_result",
          "data": {
            "text/plain": [
              "(0.0, 60.0)"
            ]
          },
          "metadata": {
            "tags": []
          },
          "execution_count": 49
        },
        {
          "output_type": "display_data",
          "data": {
            "image/png": "[encoded data removed]",
            "text/plain": [
              "<Figure size 432x288 with 1 Axes>"
            ]
          },
          "metadata": {
            "tags": [],
            "needs_background": "light"
          }
        }
      ]
    }
  ]
}