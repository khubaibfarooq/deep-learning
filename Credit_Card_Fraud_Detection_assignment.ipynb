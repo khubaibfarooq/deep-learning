{
  "nbformat": 4,
  "nbformat_minor": 0,
  "metadata": {
    "kernelspec": {
      "display_name": "Python 3",
      "language": "python",
      "name": "python3"
    },
    "language_info": {
      "codemirror_mode": {
        "name": "ipython",
        "version": 3
      },
      "file_extension": ".py",
      "mimetype": "text/x-python",
      "name": "python",
      "nbconvert_exporter": "python",
      "pygments_lexer": "ipython3",
      "version": "3.8.3"
    },
    "colab": {
      "name": "Credit-Card-Fraud-Detection-assignment.ipynb",
      "provenance": [],
      "collapsed_sections": [],
      "toc_visible": true
    }
  },
  "cells": [
    {
      "cell_type": "markdown",
      "metadata": {
        "id": "sGq7eSwRh7sH"
      },
      "source": [
        "# Credit Card Fraud Detection::"
      ]
    },
    {
      "cell_type": "markdown",
      "metadata": {
        "id": "dQE6oaIZh7sR"
      },
      "source": [
        "Download dataset from this link:\n",
        "\n",
        "https://www.kaggle.com/mlg-ulb/creditcardfraud"
      ]
    },
    {
      "cell_type": "markdown",
      "metadata": {
        "id": "uwy_ktN9h7sS"
      },
      "source": [
        "# Description about dataset::"
      ]
    },
    {
      "cell_type": "markdown",
      "metadata": {
        "id": "7IB6rBlNh7sT"
      },
      "source": [
        "The datasets contains transactions made by credit cards in September 2013 by european cardholders.\n",
        "This dataset presents transactions that occurred in two days, where we have 492 frauds out of 284,807 transactions. The dataset is highly unbalanced, the positive class (frauds) account for 0.172% of all transactions.\n",
        "\n",
        "It contains only numerical input variables which are the result of a PCA transformation. Unfortunately, due to confidentiality issues, we cannot provide the original features and more background information about the data. Features V1, V2, … V28 are the principal components obtained with PCA, the only features which have not been transformed with PCA are 'Time' and 'Amount'. Feature 'Time' contains the seconds elapsed between each transaction and the first transaction in the dataset. The feature 'Amount' is the transaction Amount, this feature can be used for example-dependant cost-senstive learning. \n",
        "\n",
        "\n",
        "### Feature 'Class' is the response variable and it takes value 1 in case of fraud and 0 otherwise."
      ]
    },
    {
      "cell_type": "markdown",
      "metadata": {
        "id": "DJQBaa8Vh7sU"
      },
      "source": [
        "# WORKFLOW :"
      ]
    },
    {
      "cell_type": "markdown",
      "metadata": {
        "id": "QyFjN666h7sV"
      },
      "source": [
        "1.Load Data\n",
        "\n",
        "2.Check Missing Values ( If Exist ; Fill each record with mean of its feature )\n",
        "\n",
        "3.Standardized the Input Variables. \n",
        "\n",
        "4.Split into 50% Training(Samples,Labels) , 30% Test(Samples,Labels) and 20% Validation Data(Samples,Labels).\n",
        "\n",
        "5.Model : input Layer (No. of features ), 3 hidden layers including 10,8,6 unit & Output Layer with activation function relu/tanh (check by experiment).\n",
        "\n",
        "6.Compilation Step (Note : Its a Binary problem , select loss , metrics according to it)\n",
        "\n",
        "7.Train the Model with Epochs (100).\n",
        "\n",
        "8.If the model gets overfit tune your model by changing the units , No. of layers , epochs , add dropout layer or add Regularizer according to the need .\n",
        "\n",
        "9.Prediction should be > 92%\n",
        "10.Evaluation Step\n",
        "11Prediction\n"
      ]
    },
    {
      "cell_type": "markdown",
      "metadata": {
        "id": "ItTrP4K9h7sW"
      },
      "source": [
        "# Task::"
      ]
    },
    {
      "cell_type": "markdown",
      "metadata": {
        "id": "9Wudx52gh7sX"
      },
      "source": [
        "## Identify fraudulent credit card transactions."
      ]
    },
    {
      "cell_type": "code",
      "metadata": {
        "colab": {
          "base_uri": "https://localhost:8080/"
        },
        "id": "Ko6R5D-nobhH",
        "outputId": "7c37a6a6-4fe9-463c-e67f-5228c86179c7"
      },
      "source": [
        "from google.colab import drive\n",
        "drive.mount('/content/drive')"
      ],
      "execution_count": null,
      "outputs": [
        {
          "output_type": "stream",
          "text": [
            "Mounted at /content/drive\n"
          ],
          "name": "stdout"
        }
      ]
    },
    {
      "cell_type": "code",
      "metadata": {
        "id": "7grSyench7sY"
      },
      "source": [
        "import pandas as pd\n",
        "import numpy as np\n",
        "import tensorflow as tf\n",
        "\n",
        "from keras import models,layers\n",
        "from keras import regularizers\n"
      ],
      "execution_count": null,
      "outputs": []
    },
    {
      "cell_type": "code",
      "metadata": {
        "colab": {
          "base_uri": "https://localhost:8080/",
          "height": 224
        },
        "id": "CPM6oijsh7sY",
        "outputId": "7ddeb4e4-cd75-4a39-d6e6-09af561d4826"
      },
      "source": [
        "df = pd.read_csv('/content/drive/MyDrive/Deep_learning_assignment/creditcard.csv')\n",
        "df.head(5)"
      ],
      "execution_count": null,
      "outputs": [
        {
          "output_type": "execute_result",
          "data": {
            "text/html": [
              "<div>\n",
              "<style scoped>\n",
              "    .dataframe tbody tr th:only-of-type {\n",
              "        vertical-align: middle;\n",
              "    }\n",
              "\n",
              "    .dataframe tbody tr th {\n",
              "        vertical-align: top;\n",
              "    }\n",
              "\n",
              "    .dataframe thead th {\n",
              "        text-align: right;\n",
              "    }\n",
              "</style>\n",
              "<table border=\"1\" class=\"dataframe\">\n",
              "  <thead>\n",
              "    <tr style=\"text-align: right;\">\n",
              "      <th></th>\n",
              "      <th>Time</th>\n",
              "      <th>V1</th>\n",
              "      <th>V2</th>\n",
              "      <th>V3</th>\n",
              "      <th>V4</th>\n",
              "      <th>V5</th>\n",
              "      <th>V6</th>\n",
              "      <th>V7</th>\n",
              "      <th>V8</th>\n",
              "      <th>V9</th>\n",
              "      <th>V10</th>\n",
              "      <th>V11</th>\n",
              "      <th>V12</th>\n",
              "      <th>V13</th>\n",
              "      <th>V14</th>\n",
              "      <th>V15</th>\n",
              "      <th>V16</th>\n",
              "      <th>V17</th>\n",
              "      <th>V18</th>\n",
              "      <th>V19</th>\n",
              "      <th>V20</th>\n",
              "      <th>V21</th>\n",
              "      <th>V22</th>\n",
              "      <th>V23</th>\n",
              "      <th>V24</th>\n",
              "      <th>V25</th>\n",
              "      <th>V26</th>\n",
              "      <th>V27</th>\n",
              "      <th>V28</th>\n",
              "      <th>Amount</th>\n",
              "      <th>Class</th>\n",
              "    </tr>\n",
              "  </thead>\n",
              "  <tbody>\n",
              "    <tr>\n",
              "      <th>0</th>\n",
              "      <td>0.0</td>\n",
              "      <td>-1.359807</td>\n",
              "      <td>-0.072781</td>\n",
              "      <td>2.536347</td>\n",
              "      <td>1.378155</td>\n",
              "      <td>-0.338321</td>\n",
              "      <td>0.462388</td>\n",
              "      <td>0.239599</td>\n",
              "      <td>0.098698</td>\n",
              "      <td>0.363787</td>\n",
              "      <td>0.090794</td>\n",
              "      <td>-0.551600</td>\n",
              "      <td>-0.617801</td>\n",
              "      <td>-0.991390</td>\n",
              "      <td>-0.311169</td>\n",
              "      <td>1.468177</td>\n",
              "      <td>-0.470401</td>\n",
              "      <td>0.207971</td>\n",
              "      <td>0.025791</td>\n",
              "      <td>0.403993</td>\n",
              "      <td>0.251412</td>\n",
              "      <td>-0.018307</td>\n",
              "      <td>0.277838</td>\n",
              "      <td>-0.110474</td>\n",
              "      <td>0.066928</td>\n",
              "      <td>0.128539</td>\n",
              "      <td>-0.189115</td>\n",
              "      <td>0.133558</td>\n",
              "      <td>-0.021053</td>\n",
              "      <td>149.62</td>\n",
              "      <td>0</td>\n",
              "    </tr>\n",
              "    <tr>\n",
              "      <th>1</th>\n",
              "      <td>0.0</td>\n",
              "      <td>1.191857</td>\n",
              "      <td>0.266151</td>\n",
              "      <td>0.166480</td>\n",
              "      <td>0.448154</td>\n",
              "      <td>0.060018</td>\n",
              "      <td>-0.082361</td>\n",
              "      <td>-0.078803</td>\n",
              "      <td>0.085102</td>\n",
              "      <td>-0.255425</td>\n",
              "      <td>-0.166974</td>\n",
              "      <td>1.612727</td>\n",
              "      <td>1.065235</td>\n",
              "      <td>0.489095</td>\n",
              "      <td>-0.143772</td>\n",
              "      <td>0.635558</td>\n",
              "      <td>0.463917</td>\n",
              "      <td>-0.114805</td>\n",
              "      <td>-0.183361</td>\n",
              "      <td>-0.145783</td>\n",
              "      <td>-0.069083</td>\n",
              "      <td>-0.225775</td>\n",
              "      <td>-0.638672</td>\n",
              "      <td>0.101288</td>\n",
              "      <td>-0.339846</td>\n",
              "      <td>0.167170</td>\n",
              "      <td>0.125895</td>\n",
              "      <td>-0.008983</td>\n",
              "      <td>0.014724</td>\n",
              "      <td>2.69</td>\n",
              "      <td>0</td>\n",
              "    </tr>\n",
              "    <tr>\n",
              "      <th>2</th>\n",
              "      <td>1.0</td>\n",
              "      <td>-1.358354</td>\n",
              "      <td>-1.340163</td>\n",
              "      <td>1.773209</td>\n",
              "      <td>0.379780</td>\n",
              "      <td>-0.503198</td>\n",
              "      <td>1.800499</td>\n",
              "      <td>0.791461</td>\n",
              "      <td>0.247676</td>\n",
              "      <td>-1.514654</td>\n",
              "      <td>0.207643</td>\n",
              "      <td>0.624501</td>\n",
              "      <td>0.066084</td>\n",
              "      <td>0.717293</td>\n",
              "      <td>-0.165946</td>\n",
              "      <td>2.345865</td>\n",
              "      <td>-2.890083</td>\n",
              "      <td>1.109969</td>\n",
              "      <td>-0.121359</td>\n",
              "      <td>-2.261857</td>\n",
              "      <td>0.524980</td>\n",
              "      <td>0.247998</td>\n",
              "      <td>0.771679</td>\n",
              "      <td>0.909412</td>\n",
              "      <td>-0.689281</td>\n",
              "      <td>-0.327642</td>\n",
              "      <td>-0.139097</td>\n",
              "      <td>-0.055353</td>\n",
              "      <td>-0.059752</td>\n",
              "      <td>378.66</td>\n",
              "      <td>0</td>\n",
              "    </tr>\n",
              "    <tr>\n",
              "      <th>3</th>\n",
              "      <td>1.0</td>\n",
              "      <td>-0.966272</td>\n",
              "      <td>-0.185226</td>\n",
              "      <td>1.792993</td>\n",
              "      <td>-0.863291</td>\n",
              "      <td>-0.010309</td>\n",
              "      <td>1.247203</td>\n",
              "      <td>0.237609</td>\n",
              "      <td>0.377436</td>\n",
              "      <td>-1.387024</td>\n",
              "      <td>-0.054952</td>\n",
              "      <td>-0.226487</td>\n",
              "      <td>0.178228</td>\n",
              "      <td>0.507757</td>\n",
              "      <td>-0.287924</td>\n",
              "      <td>-0.631418</td>\n",
              "      <td>-1.059647</td>\n",
              "      <td>-0.684093</td>\n",
              "      <td>1.965775</td>\n",
              "      <td>-1.232622</td>\n",
              "      <td>-0.208038</td>\n",
              "      <td>-0.108300</td>\n",
              "      <td>0.005274</td>\n",
              "      <td>-0.190321</td>\n",
              "      <td>-1.175575</td>\n",
              "      <td>0.647376</td>\n",
              "      <td>-0.221929</td>\n",
              "      <td>0.062723</td>\n",
              "      <td>0.061458</td>\n",
              "      <td>123.50</td>\n",
              "      <td>0</td>\n",
              "    </tr>\n",
              "    <tr>\n",
              "      <th>4</th>\n",
              "      <td>2.0</td>\n",
              "      <td>-1.158233</td>\n",
              "      <td>0.877737</td>\n",
              "      <td>1.548718</td>\n",
              "      <td>0.403034</td>\n",
              "      <td>-0.407193</td>\n",
              "      <td>0.095921</td>\n",
              "      <td>0.592941</td>\n",
              "      <td>-0.270533</td>\n",
              "      <td>0.817739</td>\n",
              "      <td>0.753074</td>\n",
              "      <td>-0.822843</td>\n",
              "      <td>0.538196</td>\n",
              "      <td>1.345852</td>\n",
              "      <td>-1.119670</td>\n",
              "      <td>0.175121</td>\n",
              "      <td>-0.451449</td>\n",
              "      <td>-0.237033</td>\n",
              "      <td>-0.038195</td>\n",
              "      <td>0.803487</td>\n",
              "      <td>0.408542</td>\n",
              "      <td>-0.009431</td>\n",
              "      <td>0.798278</td>\n",
              "      <td>-0.137458</td>\n",
              "      <td>0.141267</td>\n",
              "      <td>-0.206010</td>\n",
              "      <td>0.502292</td>\n",
              "      <td>0.219422</td>\n",
              "      <td>0.215153</td>\n",
              "      <td>69.99</td>\n",
              "      <td>0</td>\n",
              "    </tr>\n",
              "  </tbody>\n",
              "</table>\n",
              "</div>"
            ],
            "text/plain": [
              "   Time        V1        V2        V3  ...       V27       V28  Amount  Class\n",
              "0   0.0 -1.359807 -0.072781  2.536347  ...  0.133558 -0.021053  149.62      0\n",
              "1   0.0  1.191857  0.266151  0.166480  ... -0.008983  0.014724    2.69      0\n",
              "2   1.0 -1.358354 -1.340163  1.773209  ... -0.055353 -0.059752  378.66      0\n",
              "3   1.0 -0.966272 -0.185226  1.792993  ...  0.062723  0.061458  123.50      0\n",
              "4   2.0 -1.158233  0.877737  1.548718  ...  0.219422  0.215153   69.99      0\n",
              "\n",
              "[5 rows x 31 columns]"
            ]
          },
          "metadata": {
            "tags": []
          },
          "execution_count": 8
        }
      ]
    },
    {
      "cell_type": "code",
      "metadata": {
        "id": "LEL0SXIcoOlA"
      },
      "source": [
        "non_fraud=df[df[\"Class\"]==0]\n",
        "fraud = df[df[\"Class\"]==1]\n",
        "non_fraud=non_fraud.sample(3*fraud.shape[0])\n",
        "data = fraud.append(non_fraud, ignore_index=True)\n"
      ],
      "execution_count": null,
      "outputs": []
    },
    {
      "cell_type": "code",
      "metadata": {
        "id": "ktAbO8fnor3w"
      },
      "source": [
        "train_data = data.sample(frac= 0.7, random_state=125)\n",
        "test_data =  data.drop(train_data.index)"
      ],
      "execution_count": null,
      "outputs": []
    },
    {
      "cell_type": "code",
      "metadata": {
        "id": "miaUVemNpkra"
      },
      "source": [
        "train_labels = train_data.iloc[:,-1]\n",
        "train_data = train_data.iloc[:,0:-1]\n",
        "test_labels = test_data.iloc[:,-1]\n",
        "test_data = test_data.iloc[:,0:-1]"
      ],
      "execution_count": null,
      "outputs": []
    },
    {
      "cell_type": "code",
      "metadata": {
        "colab": {
          "base_uri": "https://localhost:8080/"
        },
        "id": "8eXjVHWRp57z",
        "outputId": "06b660c8-ded4-45a7-c7ee-2ae0ecdce55b"
      },
      "source": [
        "train_data.shape"
      ],
      "execution_count": null,
      "outputs": [
        {
          "output_type": "execute_result",
          "data": {
            "text/plain": [
              "(1378, 30)"
            ]
          },
          "metadata": {
            "tags": []
          },
          "execution_count": 12
        }
      ]
    },
    {
      "cell_type": "code",
      "metadata": {
        "colab": {
          "base_uri": "https://localhost:8080/"
        },
        "id": "RtPFnIhyp_ZR",
        "outputId": "ddc21b7b-28fc-4083-fc41-d34919dc3037"
      },
      "source": [
        "test_data.shape"
      ],
      "execution_count": null,
      "outputs": [
        {
          "output_type": "execute_result",
          "data": {
            "text/plain": [
              "(590, 30)"
            ]
          },
          "metadata": {
            "tags": []
          },
          "execution_count": 13
        }
      ]
    },
    {
      "cell_type": "code",
      "metadata": {
        "id": "H9GQvQEoqIcm"
      },
      "source": [
        "mean = train_data.mean(axis=0) # taking the mean of \n",
        "train_data -= mean\n",
        "std = train_data.std(axis=0)\n",
        "train_data /= std\n",
        "test_data -= mean\n",
        "test_data /= std"
      ],
      "execution_count": null,
      "outputs": []
    },
    {
      "cell_type": "code",
      "metadata": {
        "colab": {
          "base_uri": "https://localhost:8080/",
          "height": 385
        },
        "id": "Uq33meRgqczM",
        "outputId": "a8d008c4-ae1a-4dbe-9f35-a16b1ad47351"
      },
      "source": [
        "train_data.describe()"
      ],
      "execution_count": null,
      "outputs": [
        {
          "output_type": "execute_result",
          "data": {
            "text/html": [
              "<div>\n",
              "<style scoped>\n",
              "    .dataframe tbody tr th:only-of-type {\n",
              "        vertical-align: middle;\n",
              "    }\n",
              "\n",
              "    .dataframe tbody tr th {\n",
              "        vertical-align: top;\n",
              "    }\n",
              "\n",
              "    .dataframe thead th {\n",
              "        text-align: right;\n",
              "    }\n",
              "</style>\n",
              "<table border=\"1\" class=\"dataframe\">\n",
              "  <thead>\n",
              "    <tr style=\"text-align: right;\">\n",
              "      <th></th>\n",
              "      <th>Time</th>\n",
              "      <th>V1</th>\n",
              "      <th>V2</th>\n",
              "      <th>V3</th>\n",
              "      <th>V4</th>\n",
              "      <th>V5</th>\n",
              "      <th>V6</th>\n",
              "      <th>V7</th>\n",
              "      <th>V8</th>\n",
              "      <th>V9</th>\n",
              "      <th>V10</th>\n",
              "      <th>V11</th>\n",
              "      <th>V12</th>\n",
              "      <th>V13</th>\n",
              "      <th>V14</th>\n",
              "      <th>V15</th>\n",
              "      <th>V16</th>\n",
              "      <th>V17</th>\n",
              "      <th>V18</th>\n",
              "      <th>V19</th>\n",
              "      <th>V20</th>\n",
              "      <th>V21</th>\n",
              "      <th>V22</th>\n",
              "      <th>V23</th>\n",
              "      <th>V24</th>\n",
              "      <th>V25</th>\n",
              "      <th>V26</th>\n",
              "      <th>V27</th>\n",
              "      <th>V28</th>\n",
              "      <th>Amount</th>\n",
              "    </tr>\n",
              "  </thead>\n",
              "  <tbody>\n",
              "    <tr>\n",
              "      <th>count</th>\n",
              "      <td>1.378000e+03</td>\n",
              "      <td>1.378000e+03</td>\n",
              "      <td>1.378000e+03</td>\n",
              "      <td>1.378000e+03</td>\n",
              "      <td>1.378000e+03</td>\n",
              "      <td>1.378000e+03</td>\n",
              "      <td>1.378000e+03</td>\n",
              "      <td>1.378000e+03</td>\n",
              "      <td>1.378000e+03</td>\n",
              "      <td>1.378000e+03</td>\n",
              "      <td>1.378000e+03</td>\n",
              "      <td>1.378000e+03</td>\n",
              "      <td>1.378000e+03</td>\n",
              "      <td>1.378000e+03</td>\n",
              "      <td>1.378000e+03</td>\n",
              "      <td>1.378000e+03</td>\n",
              "      <td>1.378000e+03</td>\n",
              "      <td>1.378000e+03</td>\n",
              "      <td>1.378000e+03</td>\n",
              "      <td>1.378000e+03</td>\n",
              "      <td>1.378000e+03</td>\n",
              "      <td>1.378000e+03</td>\n",
              "      <td>1.378000e+03</td>\n",
              "      <td>1.378000e+03</td>\n",
              "      <td>1.378000e+03</td>\n",
              "      <td>1.378000e+03</td>\n",
              "      <td>1.378000e+03</td>\n",
              "      <td>1.378000e+03</td>\n",
              "      <td>1.378000e+03</td>\n",
              "      <td>1.378000e+03</td>\n",
              "    </tr>\n",
              "    <tr>\n",
              "      <th>mean</th>\n",
              "      <td>-6.364849e-17</td>\n",
              "      <td>3.504695e-17</td>\n",
              "      <td>8.540177e-17</td>\n",
              "      <td>4.933966e-16</td>\n",
              "      <td>2.086704e-17</td>\n",
              "      <td>1.047783e-16</td>\n",
              "      <td>2.460336e-16</td>\n",
              "      <td>-1.592219e-16</td>\n",
              "      <td>7.822621e-17</td>\n",
              "      <td>3.657774e-17</td>\n",
              "      <td>-4.453380e-17</td>\n",
              "      <td>-4.176227e-16</td>\n",
              "      <td>2.313099e-16</td>\n",
              "      <td>-5.398036e-18</td>\n",
              "      <td>4.613710e-16</td>\n",
              "      <td>9.426422e-18</td>\n",
              "      <td>-3.206998e-16</td>\n",
              "      <td>-1.051006e-16</td>\n",
              "      <td>4.790556e-16</td>\n",
              "      <td>-3.722228e-17</td>\n",
              "      <td>4.129095e-17</td>\n",
              "      <td>3.469447e-17</td>\n",
              "      <td>5.236901e-18</td>\n",
              "      <td>4.471508e-18</td>\n",
              "      <td>6.123146e-17</td>\n",
              "      <td>-4.390940e-17</td>\n",
              "      <td>-3.524837e-18</td>\n",
              "      <td>3.438982e-17</td>\n",
              "      <td>7.132127e-17</td>\n",
              "      <td>8.302502e-17</td>\n",
              "    </tr>\n",
              "    <tr>\n",
              "      <th>std</th>\n",
              "      <td>1.000000e+00</td>\n",
              "      <td>1.000000e+00</td>\n",
              "      <td>1.000000e+00</td>\n",
              "      <td>1.000000e+00</td>\n",
              "      <td>1.000000e+00</td>\n",
              "      <td>1.000000e+00</td>\n",
              "      <td>1.000000e+00</td>\n",
              "      <td>1.000000e+00</td>\n",
              "      <td>1.000000e+00</td>\n",
              "      <td>1.000000e+00</td>\n",
              "      <td>1.000000e+00</td>\n",
              "      <td>1.000000e+00</td>\n",
              "      <td>1.000000e+00</td>\n",
              "      <td>1.000000e+00</td>\n",
              "      <td>1.000000e+00</td>\n",
              "      <td>1.000000e+00</td>\n",
              "      <td>1.000000e+00</td>\n",
              "      <td>1.000000e+00</td>\n",
              "      <td>1.000000e+00</td>\n",
              "      <td>1.000000e+00</td>\n",
              "      <td>1.000000e+00</td>\n",
              "      <td>1.000000e+00</td>\n",
              "      <td>1.000000e+00</td>\n",
              "      <td>1.000000e+00</td>\n",
              "      <td>1.000000e+00</td>\n",
              "      <td>1.000000e+00</td>\n",
              "      <td>1.000000e+00</td>\n",
              "      <td>1.000000e+00</td>\n",
              "      <td>1.000000e+00</td>\n",
              "      <td>1.000000e+00</td>\n",
              "    </tr>\n",
              "    <tr>\n",
              "      <th>min</th>\n",
              "      <td>-1.910991e+00</td>\n",
              "      <td>-6.537069e+00</td>\n",
              "      <td>-5.541681e+00</td>\n",
              "      <td>-5.838279e+00</td>\n",
              "      <td>-1.739398e+00</td>\n",
              "      <td>-6.369842e+00</td>\n",
              "      <td>-3.800877e+00</td>\n",
              "      <td>-9.050726e+00</td>\n",
              "      <td>-1.119933e+01</td>\n",
              "      <td>-6.401596e+00</td>\n",
              "      <td>-6.267404e+00</td>\n",
              "      <td>-1.780989e+00</td>\n",
              "      <td>-4.604000e+00</td>\n",
              "      <td>-2.942253e+00</td>\n",
              "      <td>-4.520852e+00</td>\n",
              "      <td>-4.854190e+00</td>\n",
              "      <td>-4.684429e+00</td>\n",
              "      <td>-4.690962e+00</td>\n",
              "      <td>-4.597526e+00</td>\n",
              "      <td>-4.379729e+00</td>\n",
              "      <td>-1.278368e+01</td>\n",
              "      <td>-1.079834e+01</td>\n",
              "      <td>-9.105185e+00</td>\n",
              "      <td>-1.988392e+01</td>\n",
              "      <td>-3.568744e+00</td>\n",
              "      <td>-8.086249e+00</td>\n",
              "      <td>-2.905232e+00</td>\n",
              "      <td>-1.174653e+01</td>\n",
              "      <td>-3.602315e+00</td>\n",
              "      <td>-3.821424e-01</td>\n",
              "    </tr>\n",
              "    <tr>\n",
              "      <th>25%</th>\n",
              "      <td>-8.326081e-01</td>\n",
              "      <td>-5.660241e-02</td>\n",
              "      <td>-4.270830e-01</td>\n",
              "      <td>-4.511229e-02</td>\n",
              "      <td>-6.412700e-01</td>\n",
              "      <td>-6.259619e-02</td>\n",
              "      <td>-4.465555e-01</td>\n",
              "      <td>6.130704e-02</td>\n",
              "      <td>-9.837596e-02</td>\n",
              "      <td>-2.818932e-01</td>\n",
              "      <td>4.819530e-02</td>\n",
              "      <td>-6.649759e-01</td>\n",
              "      <td>-1.031285e-01</td>\n",
              "      <td>-6.916745e-01</td>\n",
              "      <td>-2.521777e-02</td>\n",
              "      <td>-5.699231e-01</td>\n",
              "      <td>-5.523984e-02</td>\n",
              "      <td>1.791391e-01</td>\n",
              "      <td>-1.416376e-01</td>\n",
              "      <td>-5.390221e-01</td>\n",
              "      <td>-2.565984e-01</td>\n",
              "      <td>-1.739426e-01</td>\n",
              "      <td>-5.370153e-01</td>\n",
              "      <td>-1.644008e-01</td>\n",
              "      <td>-5.962813e-01</td>\n",
              "      <td>-5.457085e-01</td>\n",
              "      <td>-7.040308e-01</td>\n",
              "      <td>-1.055597e-01</td>\n",
              "      <td>-1.370713e-01</td>\n",
              "      <td>-3.716669e-01</td>\n",
              "    </tr>\n",
              "    <tr>\n",
              "      <th>50%</th>\n",
              "      <td>-2.082370e-01</td>\n",
              "      <td>1.941224e-01</td>\n",
              "      <td>-1.775653e-01</td>\n",
              "      <td>2.973469e-01</td>\n",
              "      <td>-2.617573e-01</td>\n",
              "      <td>2.037198e-01</td>\n",
              "      <td>-6.858215e-02</td>\n",
              "      <td>2.814099e-01</td>\n",
              "      <td>-1.756714e-02</td>\n",
              "      <td>1.665030e-01</td>\n",
              "      <td>3.182332e-01</td>\n",
              "      <td>-2.420545e-01</td>\n",
              "      <td>3.999086e-01</td>\n",
              "      <td>4.498356e-02</td>\n",
              "      <td>4.121621e-01</td>\n",
              "      <td>2.525664e-02</td>\n",
              "      <td>3.242558e-01</td>\n",
              "      <td>3.205653e-01</td>\n",
              "      <td>2.229455e-01</td>\n",
              "      <td>-7.957980e-02</td>\n",
              "      <td>-9.398733e-02</td>\n",
              "      <td>-6.788365e-02</td>\n",
              "      <td>-1.288942e-02</td>\n",
              "      <td>8.684404e-03</td>\n",
              "      <td>7.675490e-02</td>\n",
              "      <td>5.332169e-02</td>\n",
              "      <td>-5.970929e-02</td>\n",
              "      <td>5.958730e-03</td>\n",
              "      <td>-3.070061e-02</td>\n",
              "      <td>-3.186466e-01</td>\n",
              "    </tr>\n",
              "    <tr>\n",
              "      <th>75%</th>\n",
              "      <td>9.342911e-01</td>\n",
              "      <td>5.529627e-01</td>\n",
              "      <td>1.435156e-01</td>\n",
              "      <td>5.249867e-01</td>\n",
              "      <td>3.303604e-01</td>\n",
              "      <td>4.155209e-01</td>\n",
              "      <td>3.536449e-01</td>\n",
              "      <td>4.115573e-01</td>\n",
              "      <td>1.082251e-01</td>\n",
              "      <td>5.406778e-01</td>\n",
              "      <td>4.576329e-01</td>\n",
              "      <td>2.638373e-01</td>\n",
              "      <td>5.551043e-01</td>\n",
              "      <td>6.991444e-01</td>\n",
              "      <td>5.643349e-01</td>\n",
              "      <td>7.409598e-01</td>\n",
              "      <td>5.362471e-01</td>\n",
              "      <td>4.335007e-01</td>\n",
              "      <td>5.257184e-01</td>\n",
              "      <td>4.719750e-01</td>\n",
              "      <td>1.601029e-01</td>\n",
              "      <td>7.862495e-02</td>\n",
              "      <td>5.346588e-01</td>\n",
              "      <td>1.926198e-01</td>\n",
              "      <td>7.263851e-01</td>\n",
              "      <td>6.255432e-01</td>\n",
              "      <td>6.274035e-01</td>\n",
              "      <td>2.449977e-01</td>\n",
              "      <td>1.283376e-01</td>\n",
              "      <td>-3.909760e-02</td>\n",
              "    </tr>\n",
              "    <tr>\n",
              "      <th>max</th>\n",
              "      <td>1.749423e+00</td>\n",
              "      <td>8.148866e-01</td>\n",
              "      <td>6.858670e+00</td>\n",
              "      <td>1.009715e+00</td>\n",
              "      <td>3.994312e+00</td>\n",
              "      <td>3.553185e+00</td>\n",
              "      <td>4.525919e+00</td>\n",
              "      <td>2.431226e+00</td>\n",
              "      <td>5.400069e+00</td>\n",
              "      <td>3.412479e+00</td>\n",
              "      <td>3.083242e+00</td>\n",
              "      <td>4.682715e+00</td>\n",
              "      <td>1.042220e+00</td>\n",
              "      <td>3.074422e+00</td>\n",
              "      <td>1.533161e+00</td>\n",
              "      <td>2.872028e+00</td>\n",
              "      <td>2.105171e+00</td>\n",
              "      <td>2.334350e+00</td>\n",
              "      <td>2.527095e+00</td>\n",
              "      <td>4.330424e+00</td>\n",
              "      <td>1.029458e+01</td>\n",
              "      <td>1.271120e+01</td>\n",
              "      <td>8.561626e+00</td>\n",
              "      <td>5.694868e+00</td>\n",
              "      <td>2.082411e+00</td>\n",
              "      <td>3.701430e+00</td>\n",
              "      <td>3.367261e+00</td>\n",
              "      <td>3.611539e+00</td>\n",
              "      <td>2.320815e+01</td>\n",
              "      <td>1.544087e+01</td>\n",
              "    </tr>\n",
              "  </tbody>\n",
              "</table>\n",
              "</div>"
            ],
            "text/plain": [
              "               Time            V1  ...           V28        Amount\n",
              "count  1.378000e+03  1.378000e+03  ...  1.378000e+03  1.378000e+03\n",
              "mean  -6.364849e-17  3.504695e-17  ...  7.132127e-17  8.302502e-17\n",
              "std    1.000000e+00  1.000000e+00  ...  1.000000e+00  1.000000e+00\n",
              "min   -1.910991e+00 -6.537069e+00  ... -3.602315e+00 -3.821424e-01\n",
              "25%   -8.326081e-01 -5.660241e-02  ... -1.370713e-01 -3.716669e-01\n",
              "50%   -2.082370e-01  1.941224e-01  ... -3.070061e-02 -3.186466e-01\n",
              "75%    9.342911e-01  5.529627e-01  ...  1.283376e-01 -3.909760e-02\n",
              "max    1.749423e+00  8.148866e-01  ...  2.320815e+01  1.544087e+01\n",
              "\n",
              "[8 rows x 30 columns]"
            ]
          },
          "metadata": {
            "tags": []
          },
          "execution_count": 15
        }
      ]
    },
    {
      "cell_type": "code",
      "metadata": {
        "id": "xYBjr9KCqg5d"
      },
      "source": [
        "train_data = train_data.to_numpy()\n",
        "train_labels = train_labels.to_numpy().astype('float64')\n",
        "\n",
        "test_data = test_data.to_numpy()\n",
        "test_labels = test_labels.to_numpy().astype('float64')"
      ],
      "execution_count": null,
      "outputs": []
    },
    {
      "cell_type": "code",
      "metadata": {
        "id": "7WqX6z8Cq14I"
      },
      "source": [
        "model = models.Sequential()\n",
        "model.add(layers.Dense(20, activation='relu',kernel_regularizer=regularizers.l2(0.001), input_shape=(train_data.shape[1],)))\n",
        "model.add(layers.Dropout(0.5))\n",
        "model.add(layers.Dense(10, activation='relu',kernel_regularizer=regularizers.l2(0.001)))\n",
        "model.add(layers.Dropout(0.5))\n",
        "model.add(layers.Dense(8, activation='relu',kernel_regularizer=regularizers.l2(0.001)))\n",
        "model.add(layers.Dropout(0.5))\n",
        "model.add(layers.Dense(6, activation='relu',kernel_regularizer=regularizers.l2(0.001)))\n",
        "model.add(layers.Dropout(0.5))\n",
        "model.add(layers.Dense(1, activation='sigmoid'))"
      ],
      "execution_count": null,
      "outputs": []
    },
    {
      "cell_type": "code",
      "metadata": {
        "id": "RMT_0Q4kq57L"
      },
      "source": [
        "model.compile(loss= 'binary_crossentropy', optimizer= 'rmsprop', metrics=['accuracy'])"
      ],
      "execution_count": null,
      "outputs": []
    },
    {
      "cell_type": "code",
      "metadata": {
        "colab": {
          "base_uri": "https://localhost:8080/"
        },
        "id": "abfYPNvWq-Eg",
        "outputId": "e4717ad3-f590-4eaa-b93f-cf82a3cb32bf"
      },
      "source": [
        "model.fit(train_data, train_labels, epochs=50,validation_split = 0.3)"
      ],
      "execution_count": null,
      "outputs": [
        {
          "output_type": "stream",
          "text": [
            "Epoch 1/50\n",
            "31/31 [==============================] - 1s 10ms/step - loss: 0.7624 - accuracy: 0.6741 - val_loss: 0.7135 - val_accuracy: 0.7995\n",
            "Epoch 2/50\n",
            "31/31 [==============================] - 0s 3ms/step - loss: 0.7443 - accuracy: 0.6881 - val_loss: 0.6963 - val_accuracy: 0.7947\n",
            "Epoch 3/50\n",
            "31/31 [==============================] - 0s 3ms/step - loss: 0.7247 - accuracy: 0.6999 - val_loss: 0.6810 - val_accuracy: 0.7826\n",
            "Epoch 4/50\n",
            "31/31 [==============================] - 0s 3ms/step - loss: 0.6968 - accuracy: 0.7554 - val_loss: 0.6619 - val_accuracy: 0.7778\n",
            "Epoch 5/50\n",
            "31/31 [==============================] - 0s 3ms/step - loss: 0.6746 - accuracy: 0.7571 - val_loss: 0.6419 - val_accuracy: 0.7826\n",
            "Epoch 6/50\n",
            "31/31 [==============================] - 0s 3ms/step - loss: 0.6501 - accuracy: 0.7853 - val_loss: 0.6207 - val_accuracy: 0.7995\n",
            "Epoch 7/50\n",
            "31/31 [==============================] - 0s 3ms/step - loss: 0.6512 - accuracy: 0.7720 - val_loss: 0.6026 - val_accuracy: 0.7923\n",
            "Epoch 8/50\n",
            "31/31 [==============================] - 0s 3ms/step - loss: 0.6172 - accuracy: 0.7832 - val_loss: 0.5815 - val_accuracy: 0.8092\n",
            "Epoch 9/50\n",
            "31/31 [==============================] - 0s 3ms/step - loss: 0.6079 - accuracy: 0.7687 - val_loss: 0.5673 - val_accuracy: 0.8043\n",
            "Epoch 10/50\n",
            "31/31 [==============================] - 0s 3ms/step - loss: 0.5954 - accuracy: 0.7974 - val_loss: 0.5465 - val_accuracy: 0.8140\n",
            "Epoch 11/50\n",
            "31/31 [==============================] - 0s 3ms/step - loss: 0.5982 - accuracy: 0.7673 - val_loss: 0.5301 - val_accuracy: 0.8164\n",
            "Epoch 12/50\n",
            "31/31 [==============================] - 0s 3ms/step - loss: 0.5885 - accuracy: 0.7676 - val_loss: 0.5093 - val_accuracy: 0.8261\n",
            "Epoch 13/50\n",
            "31/31 [==============================] - 0s 3ms/step - loss: 0.5773 - accuracy: 0.7859 - val_loss: 0.4829 - val_accuracy: 0.8309\n",
            "Epoch 14/50\n",
            "31/31 [==============================] - 0s 3ms/step - loss: 0.5541 - accuracy: 0.7936 - val_loss: 0.4587 - val_accuracy: 0.8478\n",
            "Epoch 15/50\n",
            "31/31 [==============================] - 0s 3ms/step - loss: 0.5640 - accuracy: 0.7819 - val_loss: 0.4391 - val_accuracy: 0.8623\n",
            "Epoch 16/50\n",
            "31/31 [==============================] - 0s 3ms/step - loss: 0.5367 - accuracy: 0.8003 - val_loss: 0.4130 - val_accuracy: 0.8792\n",
            "Epoch 17/50\n",
            "31/31 [==============================] - 0s 3ms/step - loss: 0.5247 - accuracy: 0.8093 - val_loss: 0.3904 - val_accuracy: 0.8816\n",
            "Epoch 18/50\n",
            "31/31 [==============================] - 0s 3ms/step - loss: 0.5255 - accuracy: 0.7885 - val_loss: 0.3634 - val_accuracy: 0.8913\n",
            "Epoch 19/50\n",
            "31/31 [==============================] - 0s 3ms/step - loss: 0.4944 - accuracy: 0.8157 - val_loss: 0.3484 - val_accuracy: 0.9010\n",
            "Epoch 20/50\n",
            "31/31 [==============================] - 0s 3ms/step - loss: 0.5693 - accuracy: 0.7958 - val_loss: 0.3430 - val_accuracy: 0.9034\n",
            "Epoch 21/50\n",
            "31/31 [==============================] - 0s 3ms/step - loss: 0.5254 - accuracy: 0.8245 - val_loss: 0.3342 - val_accuracy: 0.9130\n",
            "Epoch 22/50\n",
            "31/31 [==============================] - 0s 3ms/step - loss: 0.4765 - accuracy: 0.8228 - val_loss: 0.3139 - val_accuracy: 0.9179\n",
            "Epoch 23/50\n",
            "31/31 [==============================] - 0s 3ms/step - loss: 0.4896 - accuracy: 0.8125 - val_loss: 0.3021 - val_accuracy: 0.9227\n",
            "Epoch 24/50\n",
            "31/31 [==============================] - 0s 3ms/step - loss: 0.4490 - accuracy: 0.8395 - val_loss: 0.2877 - val_accuracy: 0.9300\n",
            "Epoch 25/50\n",
            "31/31 [==============================] - 0s 3ms/step - loss: 0.4644 - accuracy: 0.8325 - val_loss: 0.2773 - val_accuracy: 0.9324\n",
            "Epoch 26/50\n",
            "31/31 [==============================] - 0s 3ms/step - loss: 0.4592 - accuracy: 0.8329 - val_loss: 0.2645 - val_accuracy: 0.9372\n",
            "Epoch 27/50\n",
            "31/31 [==============================] - 0s 3ms/step - loss: 0.4061 - accuracy: 0.8589 - val_loss: 0.2497 - val_accuracy: 0.9396\n",
            "Epoch 28/50\n",
            "31/31 [==============================] - 0s 3ms/step - loss: 0.4435 - accuracy: 0.8222 - val_loss: 0.2385 - val_accuracy: 0.9396\n",
            "Epoch 29/50\n",
            "31/31 [==============================] - 0s 3ms/step - loss: 0.4101 - accuracy: 0.8389 - val_loss: 0.2339 - val_accuracy: 0.9396\n",
            "Epoch 30/50\n",
            "31/31 [==============================] - 0s 3ms/step - loss: 0.4384 - accuracy: 0.8597 - val_loss: 0.2315 - val_accuracy: 0.9396\n",
            "Epoch 31/50\n",
            "31/31 [==============================] - 0s 3ms/step - loss: 0.3978 - accuracy: 0.8545 - val_loss: 0.2246 - val_accuracy: 0.9396\n",
            "Epoch 32/50\n",
            "31/31 [==============================] - 0s 3ms/step - loss: 0.3636 - accuracy: 0.8660 - val_loss: 0.2143 - val_accuracy: 0.9444\n",
            "Epoch 33/50\n",
            "31/31 [==============================] - 0s 3ms/step - loss: 0.3367 - accuracy: 0.8711 - val_loss: 0.2070 - val_accuracy: 0.9444\n",
            "Epoch 34/50\n",
            "31/31 [==============================] - 0s 3ms/step - loss: 0.3887 - accuracy: 0.8626 - val_loss: 0.2011 - val_accuracy: 0.9469\n",
            "Epoch 35/50\n",
            "31/31 [==============================] - 0s 3ms/step - loss: 0.3999 - accuracy: 0.8812 - val_loss: 0.1972 - val_accuracy: 0.9493\n",
            "Epoch 36/50\n",
            "31/31 [==============================] - 0s 3ms/step - loss: 0.3896 - accuracy: 0.8513 - val_loss: 0.1948 - val_accuracy: 0.9493\n",
            "Epoch 37/50\n",
            "31/31 [==============================] - 0s 3ms/step - loss: 0.3591 - accuracy: 0.8731 - val_loss: 0.1923 - val_accuracy: 0.9493\n",
            "Epoch 38/50\n",
            "31/31 [==============================] - 0s 3ms/step - loss: 0.3815 - accuracy: 0.8541 - val_loss: 0.1884 - val_accuracy: 0.9493\n",
            "Epoch 39/50\n",
            "31/31 [==============================] - 0s 3ms/step - loss: 0.3900 - accuracy: 0.8447 - val_loss: 0.1859 - val_accuracy: 0.9493\n",
            "Epoch 40/50\n",
            "31/31 [==============================] - 0s 3ms/step - loss: 0.3713 - accuracy: 0.8610 - val_loss: 0.1843 - val_accuracy: 0.9517\n",
            "Epoch 41/50\n",
            "31/31 [==============================] - 0s 3ms/step - loss: 0.3213 - accuracy: 0.8813 - val_loss: 0.1815 - val_accuracy: 0.9541\n",
            "Epoch 42/50\n",
            "31/31 [==============================] - 0s 3ms/step - loss: 0.3532 - accuracy: 0.8684 - val_loss: 0.1790 - val_accuracy: 0.9541\n",
            "Epoch 43/50\n",
            "31/31 [==============================] - 0s 3ms/step - loss: 0.3180 - accuracy: 0.8733 - val_loss: 0.1779 - val_accuracy: 0.9541\n",
            "Epoch 44/50\n",
            "31/31 [==============================] - 0s 3ms/step - loss: 0.3061 - accuracy: 0.9000 - val_loss: 0.1758 - val_accuracy: 0.9589\n",
            "Epoch 45/50\n",
            "31/31 [==============================] - 0s 3ms/step - loss: 0.3079 - accuracy: 0.8763 - val_loss: 0.1760 - val_accuracy: 0.9589\n",
            "Epoch 46/50\n",
            "31/31 [==============================] - 0s 3ms/step - loss: 0.3049 - accuracy: 0.8961 - val_loss: 0.1761 - val_accuracy: 0.9589\n",
            "Epoch 47/50\n",
            "31/31 [==============================] - 0s 3ms/step - loss: 0.3228 - accuracy: 0.8763 - val_loss: 0.1759 - val_accuracy: 0.9589\n",
            "Epoch 48/50\n",
            "31/31 [==============================] - 0s 3ms/step - loss: 0.2962 - accuracy: 0.8869 - val_loss: 0.1749 - val_accuracy: 0.9589\n",
            "Epoch 49/50\n",
            "31/31 [==============================] - 0s 3ms/step - loss: 0.4313 - accuracy: 0.8708 - val_loss: 0.1730 - val_accuracy: 0.9565\n",
            "Epoch 50/50\n",
            "31/31 [==============================] - 0s 3ms/step - loss: 0.4219 - accuracy: 0.9042 - val_loss: 0.1720 - val_accuracy: 0.9565\n"
          ],
          "name": "stdout"
        },
        {
          "output_type": "execute_result",
          "data": {
            "text/plain": [
              "<tensorflow.python.keras.callbacks.History at 0x7f6c8cbf7b90>"
            ]
          },
          "metadata": {
            "tags": []
          },
          "execution_count": 20
        }
      ]
    },
    {
      "cell_type": "code",
      "metadata": {
        "colab": {
          "base_uri": "https://localhost:8080/"
        },
        "id": "We90rFJhrBjF",
        "outputId": "22396e82-ac8e-453d-b739-c97712b616e2"
      },
      "source": [
        "loss, accuracy = model.evaluate(test_data, test_labels)"
      ],
      "execution_count": null,
      "outputs": [
        {
          "output_type": "stream",
          "text": [
            "19/19 [==============================] - 0s 1ms/step - loss: 0.1964 - accuracy: 0.9508\n"
          ],
          "name": "stdout"
        }
      ]
    },
    {
      "cell_type": "code",
      "metadata": {
        "id": "jde48pQEroO0"
      },
      "source": [
        ""
      ],
      "execution_count": null,
      "outputs": []
    },
    {
      "cell_type": "code",
      "metadata": {
        "id": "q7OoWXvZrEb9"
      },
      "source": [
        "predictions = model.predict(test_data)"
      ],
      "execution_count": null,
      "outputs": []
    },
    {
      "cell_type": "code",
      "metadata": {
        "colab": {
          "base_uri": "https://localhost:8080/"
        },
        "id": "wSGdqvpKrcuJ",
        "outputId": "b153dd30-7d7a-4c95-a386-b690dd0e4b18"
      },
      "source": [
        "result = accuracy * 100\n",
        "result"
      ],
      "execution_count": null,
      "outputs": [
        {
          "output_type": "execute_result",
          "data": {
            "text/plain": [
              "95.08474469184875"
            ]
          },
          "metadata": {
            "tags": []
          },
          "execution_count": 23
        }
      ]
    }
  ]
}